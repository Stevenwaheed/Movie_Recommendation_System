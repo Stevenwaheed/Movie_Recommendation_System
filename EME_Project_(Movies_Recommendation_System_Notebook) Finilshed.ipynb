{
  "nbformat": 4,
  "nbformat_minor": 0,
  "metadata": {
    "colab": {
      "provenance": [],
      "collapsed_sections": []
    },
    "kernelspec": {
      "name": "python3",
      "display_name": "Python 3"
    },
    "language_info": {
      "name": "python"
    }
  },
  "cells": [
    {
      "cell_type": "markdown",
      "source": [
        "# Movies Recommendation System"
      ],
      "metadata": {
        "id": "0OERfcTVxsss"
      }
    },
    {
      "cell_type": "code",
      "source": [
        "import pandas as pd\n",
        "import numpy as np\n",
        "\n",
        "import matplotlib.pyplot as plt\n",
        "import seaborn as sns\n",
        "\n",
        "from sklearn.feature_extraction.text import CountVectorizer\n",
        "from sklearn.metrics.pairwise import cosine_similarity\n",
        "\n",
        "from google.colab import drive\n",
        "from ast import literal_eval"
      ],
      "metadata": {
        "id": "Igl4Khrbtb3d"
      },
      "execution_count": 1,
      "outputs": []
    },
    {
      "cell_type": "code",
      "source": [
        "drive.mount('/content/drive/')\n",
        "path='drive/MyDrive/'"
      ],
      "metadata": {
        "colab": {
          "base_uri": "https://localhost:8080/"
        },
        "id": "BzO2Fk-vtcv1",
        "outputId": "615381b2-d116-40dd-9ca3-fcc70ba76e7f"
      },
      "execution_count": 2,
      "outputs": [
        {
          "output_type": "stream",
          "name": "stdout",
          "text": [
            "Mounted at /content/drive/\n"
          ]
        }
      ]
    },
    {
      "cell_type": "markdown",
      "source": [
        "## 1. Exploratory data analysis"
      ],
      "metadata": {
        "id": "LLPcOxmjx_ov"
      }
    },
    {
      "cell_type": "code",
      "source": [
        "movies_df=pd.read_csv(path+'tmdb_5000_movies.csv')\n",
        "credits_df=pd.read_csv(path+'tmdb_5000_credits.csv')"
      ],
      "metadata": {
        "id": "WGAixLpMtkr6"
      },
      "execution_count": 3,
      "outputs": []
    },
    {
      "cell_type": "code",
      "source": [
        "movies_df.head()"
      ],
      "metadata": {
        "colab": {
          "base_uri": "https://localhost:8080/",
          "height": 773
        },
        "id": "kmzGrhRftlco",
        "outputId": "a1d67e96-9d15-406e-c925-1f6dc5d57fc4"
      },
      "execution_count": 4,
      "outputs": [
        {
          "output_type": "execute_result",
          "data": {
            "text/plain": [
              "      budget                                             genres  \\\n",
              "0  237000000  [{\"id\": 28, \"name\": \"Action\"}, {\"id\": 12, \"nam...   \n",
              "1  300000000  [{\"id\": 12, \"name\": \"Adventure\"}, {\"id\": 14, \"...   \n",
              "2  245000000  [{\"id\": 28, \"name\": \"Action\"}, {\"id\": 12, \"nam...   \n",
              "3  250000000  [{\"id\": 28, \"name\": \"Action\"}, {\"id\": 80, \"nam...   \n",
              "4  260000000  [{\"id\": 28, \"name\": \"Action\"}, {\"id\": 12, \"nam...   \n",
              "\n",
              "                                       homepage      id  \\\n",
              "0                   http://www.avatarmovie.com/   19995   \n",
              "1  http://disney.go.com/disneypictures/pirates/     285   \n",
              "2   http://www.sonypictures.com/movies/spectre/  206647   \n",
              "3            http://www.thedarkknightrises.com/   49026   \n",
              "4          http://movies.disney.com/john-carter   49529   \n",
              "\n",
              "                                            keywords original_language  \\\n",
              "0  [{\"id\": 1463, \"name\": \"culture clash\"}, {\"id\":...                en   \n",
              "1  [{\"id\": 270, \"name\": \"ocean\"}, {\"id\": 726, \"na...                en   \n",
              "2  [{\"id\": 470, \"name\": \"spy\"}, {\"id\": 818, \"name...                en   \n",
              "3  [{\"id\": 849, \"name\": \"dc comics\"}, {\"id\": 853,...                en   \n",
              "4  [{\"id\": 818, \"name\": \"based on novel\"}, {\"id\":...                en   \n",
              "\n",
              "                             original_title  \\\n",
              "0                                    Avatar   \n",
              "1  Pirates of the Caribbean: At World's End   \n",
              "2                                   Spectre   \n",
              "3                     The Dark Knight Rises   \n",
              "4                               John Carter   \n",
              "\n",
              "                                            overview  popularity  \\\n",
              "0  In the 22nd century, a paraplegic Marine is di...  150.437577   \n",
              "1  Captain Barbossa, long believed to be dead, ha...  139.082615   \n",
              "2  A cryptic message from Bond’s past sends him o...  107.376788   \n",
              "3  Following the death of District Attorney Harve...  112.312950   \n",
              "4  John Carter is a war-weary, former military ca...   43.926995   \n",
              "\n",
              "                                production_companies  \\\n",
              "0  [{\"name\": \"Ingenious Film Partners\", \"id\": 289...   \n",
              "1  [{\"name\": \"Walt Disney Pictures\", \"id\": 2}, {\"...   \n",
              "2  [{\"name\": \"Columbia Pictures\", \"id\": 5}, {\"nam...   \n",
              "3  [{\"name\": \"Legendary Pictures\", \"id\": 923}, {\"...   \n",
              "4        [{\"name\": \"Walt Disney Pictures\", \"id\": 2}]   \n",
              "\n",
              "                                production_countries release_date     revenue  \\\n",
              "0  [{\"iso_3166_1\": \"US\", \"name\": \"United States o...   2009-12-10  2787965087   \n",
              "1  [{\"iso_3166_1\": \"US\", \"name\": \"United States o...   2007-05-19   961000000   \n",
              "2  [{\"iso_3166_1\": \"GB\", \"name\": \"United Kingdom\"...   2015-10-26   880674609   \n",
              "3  [{\"iso_3166_1\": \"US\", \"name\": \"United States o...   2012-07-16  1084939099   \n",
              "4  [{\"iso_3166_1\": \"US\", \"name\": \"United States o...   2012-03-07   284139100   \n",
              "\n",
              "   runtime                                   spoken_languages    status  \\\n",
              "0    162.0  [{\"iso_639_1\": \"en\", \"name\": \"English\"}, {\"iso...  Released   \n",
              "1    169.0           [{\"iso_639_1\": \"en\", \"name\": \"English\"}]  Released   \n",
              "2    148.0  [{\"iso_639_1\": \"fr\", \"name\": \"Fran\\u00e7ais\"},...  Released   \n",
              "3    165.0           [{\"iso_639_1\": \"en\", \"name\": \"English\"}]  Released   \n",
              "4    132.0           [{\"iso_639_1\": \"en\", \"name\": \"English\"}]  Released   \n",
              "\n",
              "                                          tagline  \\\n",
              "0                     Enter the World of Pandora.   \n",
              "1  At the end of the world, the adventure begins.   \n",
              "2                           A Plan No One Escapes   \n",
              "3                                 The Legend Ends   \n",
              "4            Lost in our world, found in another.   \n",
              "\n",
              "                                      title  vote_average  vote_count  \n",
              "0                                    Avatar           7.2       11800  \n",
              "1  Pirates of the Caribbean: At World's End           6.9        4500  \n",
              "2                                   Spectre           6.3        4466  \n",
              "3                     The Dark Knight Rises           7.6        9106  \n",
              "4                               John Carter           6.1        2124  "
            ],
            "text/html": [
              "\n",
              "  <div id=\"df-69341e01-b68f-4631-a475-88189be7809f\">\n",
              "    <div class=\"colab-df-container\">\n",
              "      <div>\n",
              "<style scoped>\n",
              "    .dataframe tbody tr th:only-of-type {\n",
              "        vertical-align: middle;\n",
              "    }\n",
              "\n",
              "    .dataframe tbody tr th {\n",
              "        vertical-align: top;\n",
              "    }\n",
              "\n",
              "    .dataframe thead th {\n",
              "        text-align: right;\n",
              "    }\n",
              "</style>\n",
              "<table border=\"1\" class=\"dataframe\">\n",
              "  <thead>\n",
              "    <tr style=\"text-align: right;\">\n",
              "      <th></th>\n",
              "      <th>budget</th>\n",
              "      <th>genres</th>\n",
              "      <th>homepage</th>\n",
              "      <th>id</th>\n",
              "      <th>keywords</th>\n",
              "      <th>original_language</th>\n",
              "      <th>original_title</th>\n",
              "      <th>overview</th>\n",
              "      <th>popularity</th>\n",
              "      <th>production_companies</th>\n",
              "      <th>production_countries</th>\n",
              "      <th>release_date</th>\n",
              "      <th>revenue</th>\n",
              "      <th>runtime</th>\n",
              "      <th>spoken_languages</th>\n",
              "      <th>status</th>\n",
              "      <th>tagline</th>\n",
              "      <th>title</th>\n",
              "      <th>vote_average</th>\n",
              "      <th>vote_count</th>\n",
              "    </tr>\n",
              "  </thead>\n",
              "  <tbody>\n",
              "    <tr>\n",
              "      <th>0</th>\n",
              "      <td>237000000</td>\n",
              "      <td>[{\"id\": 28, \"name\": \"Action\"}, {\"id\": 12, \"nam...</td>\n",
              "      <td>http://www.avatarmovie.com/</td>\n",
              "      <td>19995</td>\n",
              "      <td>[{\"id\": 1463, \"name\": \"culture clash\"}, {\"id\":...</td>\n",
              "      <td>en</td>\n",
              "      <td>Avatar</td>\n",
              "      <td>In the 22nd century, a paraplegic Marine is di...</td>\n",
              "      <td>150.437577</td>\n",
              "      <td>[{\"name\": \"Ingenious Film Partners\", \"id\": 289...</td>\n",
              "      <td>[{\"iso_3166_1\": \"US\", \"name\": \"United States o...</td>\n",
              "      <td>2009-12-10</td>\n",
              "      <td>2787965087</td>\n",
              "      <td>162.0</td>\n",
              "      <td>[{\"iso_639_1\": \"en\", \"name\": \"English\"}, {\"iso...</td>\n",
              "      <td>Released</td>\n",
              "      <td>Enter the World of Pandora.</td>\n",
              "      <td>Avatar</td>\n",
              "      <td>7.2</td>\n",
              "      <td>11800</td>\n",
              "    </tr>\n",
              "    <tr>\n",
              "      <th>1</th>\n",
              "      <td>300000000</td>\n",
              "      <td>[{\"id\": 12, \"name\": \"Adventure\"}, {\"id\": 14, \"...</td>\n",
              "      <td>http://disney.go.com/disneypictures/pirates/</td>\n",
              "      <td>285</td>\n",
              "      <td>[{\"id\": 270, \"name\": \"ocean\"}, {\"id\": 726, \"na...</td>\n",
              "      <td>en</td>\n",
              "      <td>Pirates of the Caribbean: At World's End</td>\n",
              "      <td>Captain Barbossa, long believed to be dead, ha...</td>\n",
              "      <td>139.082615</td>\n",
              "      <td>[{\"name\": \"Walt Disney Pictures\", \"id\": 2}, {\"...</td>\n",
              "      <td>[{\"iso_3166_1\": \"US\", \"name\": \"United States o...</td>\n",
              "      <td>2007-05-19</td>\n",
              "      <td>961000000</td>\n",
              "      <td>169.0</td>\n",
              "      <td>[{\"iso_639_1\": \"en\", \"name\": \"English\"}]</td>\n",
              "      <td>Released</td>\n",
              "      <td>At the end of the world, the adventure begins.</td>\n",
              "      <td>Pirates of the Caribbean: At World's End</td>\n",
              "      <td>6.9</td>\n",
              "      <td>4500</td>\n",
              "    </tr>\n",
              "    <tr>\n",
              "      <th>2</th>\n",
              "      <td>245000000</td>\n",
              "      <td>[{\"id\": 28, \"name\": \"Action\"}, {\"id\": 12, \"nam...</td>\n",
              "      <td>http://www.sonypictures.com/movies/spectre/</td>\n",
              "      <td>206647</td>\n",
              "      <td>[{\"id\": 470, \"name\": \"spy\"}, {\"id\": 818, \"name...</td>\n",
              "      <td>en</td>\n",
              "      <td>Spectre</td>\n",
              "      <td>A cryptic message from Bond’s past sends him o...</td>\n",
              "      <td>107.376788</td>\n",
              "      <td>[{\"name\": \"Columbia Pictures\", \"id\": 5}, {\"nam...</td>\n",
              "      <td>[{\"iso_3166_1\": \"GB\", \"name\": \"United Kingdom\"...</td>\n",
              "      <td>2015-10-26</td>\n",
              "      <td>880674609</td>\n",
              "      <td>148.0</td>\n",
              "      <td>[{\"iso_639_1\": \"fr\", \"name\": \"Fran\\u00e7ais\"},...</td>\n",
              "      <td>Released</td>\n",
              "      <td>A Plan No One Escapes</td>\n",
              "      <td>Spectre</td>\n",
              "      <td>6.3</td>\n",
              "      <td>4466</td>\n",
              "    </tr>\n",
              "    <tr>\n",
              "      <th>3</th>\n",
              "      <td>250000000</td>\n",
              "      <td>[{\"id\": 28, \"name\": \"Action\"}, {\"id\": 80, \"nam...</td>\n",
              "      <td>http://www.thedarkknightrises.com/</td>\n",
              "      <td>49026</td>\n",
              "      <td>[{\"id\": 849, \"name\": \"dc comics\"}, {\"id\": 853,...</td>\n",
              "      <td>en</td>\n",
              "      <td>The Dark Knight Rises</td>\n",
              "      <td>Following the death of District Attorney Harve...</td>\n",
              "      <td>112.312950</td>\n",
              "      <td>[{\"name\": \"Legendary Pictures\", \"id\": 923}, {\"...</td>\n",
              "      <td>[{\"iso_3166_1\": \"US\", \"name\": \"United States o...</td>\n",
              "      <td>2012-07-16</td>\n",
              "      <td>1084939099</td>\n",
              "      <td>165.0</td>\n",
              "      <td>[{\"iso_639_1\": \"en\", \"name\": \"English\"}]</td>\n",
              "      <td>Released</td>\n",
              "      <td>The Legend Ends</td>\n",
              "      <td>The Dark Knight Rises</td>\n",
              "      <td>7.6</td>\n",
              "      <td>9106</td>\n",
              "    </tr>\n",
              "    <tr>\n",
              "      <th>4</th>\n",
              "      <td>260000000</td>\n",
              "      <td>[{\"id\": 28, \"name\": \"Action\"}, {\"id\": 12, \"nam...</td>\n",
              "      <td>http://movies.disney.com/john-carter</td>\n",
              "      <td>49529</td>\n",
              "      <td>[{\"id\": 818, \"name\": \"based on novel\"}, {\"id\":...</td>\n",
              "      <td>en</td>\n",
              "      <td>John Carter</td>\n",
              "      <td>John Carter is a war-weary, former military ca...</td>\n",
              "      <td>43.926995</td>\n",
              "      <td>[{\"name\": \"Walt Disney Pictures\", \"id\": 2}]</td>\n",
              "      <td>[{\"iso_3166_1\": \"US\", \"name\": \"United States o...</td>\n",
              "      <td>2012-03-07</td>\n",
              "      <td>284139100</td>\n",
              "      <td>132.0</td>\n",
              "      <td>[{\"iso_639_1\": \"en\", \"name\": \"English\"}]</td>\n",
              "      <td>Released</td>\n",
              "      <td>Lost in our world, found in another.</td>\n",
              "      <td>John Carter</td>\n",
              "      <td>6.1</td>\n",
              "      <td>2124</td>\n",
              "    </tr>\n",
              "  </tbody>\n",
              "</table>\n",
              "</div>\n",
              "      <button class=\"colab-df-convert\" onclick=\"convertToInteractive('df-69341e01-b68f-4631-a475-88189be7809f')\"\n",
              "              title=\"Convert this dataframe to an interactive table.\"\n",
              "              style=\"display:none;\">\n",
              "        \n",
              "  <svg xmlns=\"http://www.w3.org/2000/svg\" height=\"24px\"viewBox=\"0 0 24 24\"\n",
              "       width=\"24px\">\n",
              "    <path d=\"M0 0h24v24H0V0z\" fill=\"none\"/>\n",
              "    <path d=\"M18.56 5.44l.94 2.06.94-2.06 2.06-.94-2.06-.94-.94-2.06-.94 2.06-2.06.94zm-11 1L8.5 8.5l.94-2.06 2.06-.94-2.06-.94L8.5 2.5l-.94 2.06-2.06.94zm10 10l.94 2.06.94-2.06 2.06-.94-2.06-.94-.94-2.06-.94 2.06-2.06.94z\"/><path d=\"M17.41 7.96l-1.37-1.37c-.4-.4-.92-.59-1.43-.59-.52 0-1.04.2-1.43.59L10.3 9.45l-7.72 7.72c-.78.78-.78 2.05 0 2.83L4 21.41c.39.39.9.59 1.41.59.51 0 1.02-.2 1.41-.59l7.78-7.78 2.81-2.81c.8-.78.8-2.07 0-2.86zM5.41 20L4 18.59l7.72-7.72 1.47 1.35L5.41 20z\"/>\n",
              "  </svg>\n",
              "      </button>\n",
              "      \n",
              "  <style>\n",
              "    .colab-df-container {\n",
              "      display:flex;\n",
              "      flex-wrap:wrap;\n",
              "      gap: 12px;\n",
              "    }\n",
              "\n",
              "    .colab-df-convert {\n",
              "      background-color: #E8F0FE;\n",
              "      border: none;\n",
              "      border-radius: 50%;\n",
              "      cursor: pointer;\n",
              "      display: none;\n",
              "      fill: #1967D2;\n",
              "      height: 32px;\n",
              "      padding: 0 0 0 0;\n",
              "      width: 32px;\n",
              "    }\n",
              "\n",
              "    .colab-df-convert:hover {\n",
              "      background-color: #E2EBFA;\n",
              "      box-shadow: 0px 1px 2px rgba(60, 64, 67, 0.3), 0px 1px 3px 1px rgba(60, 64, 67, 0.15);\n",
              "      fill: #174EA6;\n",
              "    }\n",
              "\n",
              "    [theme=dark] .colab-df-convert {\n",
              "      background-color: #3B4455;\n",
              "      fill: #D2E3FC;\n",
              "    }\n",
              "\n",
              "    [theme=dark] .colab-df-convert:hover {\n",
              "      background-color: #434B5C;\n",
              "      box-shadow: 0px 1px 3px 1px rgba(0, 0, 0, 0.15);\n",
              "      filter: drop-shadow(0px 1px 2px rgba(0, 0, 0, 0.3));\n",
              "      fill: #FFFFFF;\n",
              "    }\n",
              "  </style>\n",
              "\n",
              "      <script>\n",
              "        const buttonEl =\n",
              "          document.querySelector('#df-69341e01-b68f-4631-a475-88189be7809f button.colab-df-convert');\n",
              "        buttonEl.style.display =\n",
              "          google.colab.kernel.accessAllowed ? 'block' : 'none';\n",
              "\n",
              "        async function convertToInteractive(key) {\n",
              "          const element = document.querySelector('#df-69341e01-b68f-4631-a475-88189be7809f');\n",
              "          const dataTable =\n",
              "            await google.colab.kernel.invokeFunction('convertToInteractive',\n",
              "                                                     [key], {});\n",
              "          if (!dataTable) return;\n",
              "\n",
              "          const docLinkHtml = 'Like what you see? Visit the ' +\n",
              "            '<a target=\"_blank\" href=https://colab.research.google.com/notebooks/data_table.ipynb>data table notebook</a>'\n",
              "            + ' to learn more about interactive tables.';\n",
              "          element.innerHTML = '';\n",
              "          dataTable['output_type'] = 'display_data';\n",
              "          await google.colab.output.renderOutput(dataTable, element);\n",
              "          const docLink = document.createElement('div');\n",
              "          docLink.innerHTML = docLinkHtml;\n",
              "          element.appendChild(docLink);\n",
              "        }\n",
              "      </script>\n",
              "    </div>\n",
              "  </div>\n",
              "  "
            ]
          },
          "metadata": {},
          "execution_count": 4
        }
      ]
    },
    {
      "cell_type": "code",
      "source": [
        "movies_df.info()"
      ],
      "metadata": {
        "colab": {
          "base_uri": "https://localhost:8080/"
        },
        "id": "rMPrdS9FHKaD",
        "outputId": "0b8c7982-294d-4aff-a6e9-795b4e8c3801"
      },
      "execution_count": 5,
      "outputs": [
        {
          "output_type": "stream",
          "name": "stdout",
          "text": [
            "<class 'pandas.core.frame.DataFrame'>\n",
            "RangeIndex: 4803 entries, 0 to 4802\n",
            "Data columns (total 20 columns):\n",
            " #   Column                Non-Null Count  Dtype  \n",
            "---  ------                --------------  -----  \n",
            " 0   budget                4803 non-null   int64  \n",
            " 1   genres                4803 non-null   object \n",
            " 2   homepage              1712 non-null   object \n",
            " 3   id                    4803 non-null   int64  \n",
            " 4   keywords              4803 non-null   object \n",
            " 5   original_language     4803 non-null   object \n",
            " 6   original_title        4803 non-null   object \n",
            " 7   overview              4800 non-null   object \n",
            " 8   popularity            4803 non-null   float64\n",
            " 9   production_companies  4803 non-null   object \n",
            " 10  production_countries  4803 non-null   object \n",
            " 11  release_date          4802 non-null   object \n",
            " 12  revenue               4803 non-null   int64  \n",
            " 13  runtime               4801 non-null   float64\n",
            " 14  spoken_languages      4803 non-null   object \n",
            " 15  status                4803 non-null   object \n",
            " 16  tagline               3959 non-null   object \n",
            " 17  title                 4803 non-null   object \n",
            " 18  vote_average          4803 non-null   float64\n",
            " 19  vote_count            4803 non-null   int64  \n",
            "dtypes: float64(3), int64(4), object(13)\n",
            "memory usage: 750.6+ KB\n"
          ]
        }
      ]
    },
    {
      "cell_type": "code",
      "source": [
        "movies_df.describe()"
      ],
      "metadata": {
        "colab": {
          "base_uri": "https://localhost:8080/",
          "height": 300
        },
        "id": "URMUQb8HHKWp",
        "outputId": "70ebbe7f-42c3-4cac-cbdf-c3048de1b44a"
      },
      "execution_count": 6,
      "outputs": [
        {
          "output_type": "execute_result",
          "data": {
            "text/plain": [
              "             budget             id   popularity       revenue      runtime  \\\n",
              "count  4.803000e+03    4803.000000  4803.000000  4.803000e+03  4801.000000   \n",
              "mean   2.904504e+07   57165.484281    21.492301  8.226064e+07   106.875859   \n",
              "std    4.072239e+07   88694.614033    31.816650  1.628571e+08    22.611935   \n",
              "min    0.000000e+00       5.000000     0.000000  0.000000e+00     0.000000   \n",
              "25%    7.900000e+05    9014.500000     4.668070  0.000000e+00    94.000000   \n",
              "50%    1.500000e+07   14629.000000    12.921594  1.917000e+07   103.000000   \n",
              "75%    4.000000e+07   58610.500000    28.313505  9.291719e+07   118.000000   \n",
              "max    3.800000e+08  459488.000000   875.581305  2.787965e+09   338.000000   \n",
              "\n",
              "       vote_average    vote_count  \n",
              "count   4803.000000   4803.000000  \n",
              "mean       6.092172    690.217989  \n",
              "std        1.194612   1234.585891  \n",
              "min        0.000000      0.000000  \n",
              "25%        5.600000     54.000000  \n",
              "50%        6.200000    235.000000  \n",
              "75%        6.800000    737.000000  \n",
              "max       10.000000  13752.000000  "
            ],
            "text/html": [
              "\n",
              "  <div id=\"df-c19c4960-d6d1-4050-be3c-6a7c2c1ba581\">\n",
              "    <div class=\"colab-df-container\">\n",
              "      <div>\n",
              "<style scoped>\n",
              "    .dataframe tbody tr th:only-of-type {\n",
              "        vertical-align: middle;\n",
              "    }\n",
              "\n",
              "    .dataframe tbody tr th {\n",
              "        vertical-align: top;\n",
              "    }\n",
              "\n",
              "    .dataframe thead th {\n",
              "        text-align: right;\n",
              "    }\n",
              "</style>\n",
              "<table border=\"1\" class=\"dataframe\">\n",
              "  <thead>\n",
              "    <tr style=\"text-align: right;\">\n",
              "      <th></th>\n",
              "      <th>budget</th>\n",
              "      <th>id</th>\n",
              "      <th>popularity</th>\n",
              "      <th>revenue</th>\n",
              "      <th>runtime</th>\n",
              "      <th>vote_average</th>\n",
              "      <th>vote_count</th>\n",
              "    </tr>\n",
              "  </thead>\n",
              "  <tbody>\n",
              "    <tr>\n",
              "      <th>count</th>\n",
              "      <td>4.803000e+03</td>\n",
              "      <td>4803.000000</td>\n",
              "      <td>4803.000000</td>\n",
              "      <td>4.803000e+03</td>\n",
              "      <td>4801.000000</td>\n",
              "      <td>4803.000000</td>\n",
              "      <td>4803.000000</td>\n",
              "    </tr>\n",
              "    <tr>\n",
              "      <th>mean</th>\n",
              "      <td>2.904504e+07</td>\n",
              "      <td>57165.484281</td>\n",
              "      <td>21.492301</td>\n",
              "      <td>8.226064e+07</td>\n",
              "      <td>106.875859</td>\n",
              "      <td>6.092172</td>\n",
              "      <td>690.217989</td>\n",
              "    </tr>\n",
              "    <tr>\n",
              "      <th>std</th>\n",
              "      <td>4.072239e+07</td>\n",
              "      <td>88694.614033</td>\n",
              "      <td>31.816650</td>\n",
              "      <td>1.628571e+08</td>\n",
              "      <td>22.611935</td>\n",
              "      <td>1.194612</td>\n",
              "      <td>1234.585891</td>\n",
              "    </tr>\n",
              "    <tr>\n",
              "      <th>min</th>\n",
              "      <td>0.000000e+00</td>\n",
              "      <td>5.000000</td>\n",
              "      <td>0.000000</td>\n",
              "      <td>0.000000e+00</td>\n",
              "      <td>0.000000</td>\n",
              "      <td>0.000000</td>\n",
              "      <td>0.000000</td>\n",
              "    </tr>\n",
              "    <tr>\n",
              "      <th>25%</th>\n",
              "      <td>7.900000e+05</td>\n",
              "      <td>9014.500000</td>\n",
              "      <td>4.668070</td>\n",
              "      <td>0.000000e+00</td>\n",
              "      <td>94.000000</td>\n",
              "      <td>5.600000</td>\n",
              "      <td>54.000000</td>\n",
              "    </tr>\n",
              "    <tr>\n",
              "      <th>50%</th>\n",
              "      <td>1.500000e+07</td>\n",
              "      <td>14629.000000</td>\n",
              "      <td>12.921594</td>\n",
              "      <td>1.917000e+07</td>\n",
              "      <td>103.000000</td>\n",
              "      <td>6.200000</td>\n",
              "      <td>235.000000</td>\n",
              "    </tr>\n",
              "    <tr>\n",
              "      <th>75%</th>\n",
              "      <td>4.000000e+07</td>\n",
              "      <td>58610.500000</td>\n",
              "      <td>28.313505</td>\n",
              "      <td>9.291719e+07</td>\n",
              "      <td>118.000000</td>\n",
              "      <td>6.800000</td>\n",
              "      <td>737.000000</td>\n",
              "    </tr>\n",
              "    <tr>\n",
              "      <th>max</th>\n",
              "      <td>3.800000e+08</td>\n",
              "      <td>459488.000000</td>\n",
              "      <td>875.581305</td>\n",
              "      <td>2.787965e+09</td>\n",
              "      <td>338.000000</td>\n",
              "      <td>10.000000</td>\n",
              "      <td>13752.000000</td>\n",
              "    </tr>\n",
              "  </tbody>\n",
              "</table>\n",
              "</div>\n",
              "      <button class=\"colab-df-convert\" onclick=\"convertToInteractive('df-c19c4960-d6d1-4050-be3c-6a7c2c1ba581')\"\n",
              "              title=\"Convert this dataframe to an interactive table.\"\n",
              "              style=\"display:none;\">\n",
              "        \n",
              "  <svg xmlns=\"http://www.w3.org/2000/svg\" height=\"24px\"viewBox=\"0 0 24 24\"\n",
              "       width=\"24px\">\n",
              "    <path d=\"M0 0h24v24H0V0z\" fill=\"none\"/>\n",
              "    <path d=\"M18.56 5.44l.94 2.06.94-2.06 2.06-.94-2.06-.94-.94-2.06-.94 2.06-2.06.94zm-11 1L8.5 8.5l.94-2.06 2.06-.94-2.06-.94L8.5 2.5l-.94 2.06-2.06.94zm10 10l.94 2.06.94-2.06 2.06-.94-2.06-.94-.94-2.06-.94 2.06-2.06.94z\"/><path d=\"M17.41 7.96l-1.37-1.37c-.4-.4-.92-.59-1.43-.59-.52 0-1.04.2-1.43.59L10.3 9.45l-7.72 7.72c-.78.78-.78 2.05 0 2.83L4 21.41c.39.39.9.59 1.41.59.51 0 1.02-.2 1.41-.59l7.78-7.78 2.81-2.81c.8-.78.8-2.07 0-2.86zM5.41 20L4 18.59l7.72-7.72 1.47 1.35L5.41 20z\"/>\n",
              "  </svg>\n",
              "      </button>\n",
              "      \n",
              "  <style>\n",
              "    .colab-df-container {\n",
              "      display:flex;\n",
              "      flex-wrap:wrap;\n",
              "      gap: 12px;\n",
              "    }\n",
              "\n",
              "    .colab-df-convert {\n",
              "      background-color: #E8F0FE;\n",
              "      border: none;\n",
              "      border-radius: 50%;\n",
              "      cursor: pointer;\n",
              "      display: none;\n",
              "      fill: #1967D2;\n",
              "      height: 32px;\n",
              "      padding: 0 0 0 0;\n",
              "      width: 32px;\n",
              "    }\n",
              "\n",
              "    .colab-df-convert:hover {\n",
              "      background-color: #E2EBFA;\n",
              "      box-shadow: 0px 1px 2px rgba(60, 64, 67, 0.3), 0px 1px 3px 1px rgba(60, 64, 67, 0.15);\n",
              "      fill: #174EA6;\n",
              "    }\n",
              "\n",
              "    [theme=dark] .colab-df-convert {\n",
              "      background-color: #3B4455;\n",
              "      fill: #D2E3FC;\n",
              "    }\n",
              "\n",
              "    [theme=dark] .colab-df-convert:hover {\n",
              "      background-color: #434B5C;\n",
              "      box-shadow: 0px 1px 3px 1px rgba(0, 0, 0, 0.15);\n",
              "      filter: drop-shadow(0px 1px 2px rgba(0, 0, 0, 0.3));\n",
              "      fill: #FFFFFF;\n",
              "    }\n",
              "  </style>\n",
              "\n",
              "      <script>\n",
              "        const buttonEl =\n",
              "          document.querySelector('#df-c19c4960-d6d1-4050-be3c-6a7c2c1ba581 button.colab-df-convert');\n",
              "        buttonEl.style.display =\n",
              "          google.colab.kernel.accessAllowed ? 'block' : 'none';\n",
              "\n",
              "        async function convertToInteractive(key) {\n",
              "          const element = document.querySelector('#df-c19c4960-d6d1-4050-be3c-6a7c2c1ba581');\n",
              "          const dataTable =\n",
              "            await google.colab.kernel.invokeFunction('convertToInteractive',\n",
              "                                                     [key], {});\n",
              "          if (!dataTable) return;\n",
              "\n",
              "          const docLinkHtml = 'Like what you see? Visit the ' +\n",
              "            '<a target=\"_blank\" href=https://colab.research.google.com/notebooks/data_table.ipynb>data table notebook</a>'\n",
              "            + ' to learn more about interactive tables.';\n",
              "          element.innerHTML = '';\n",
              "          dataTable['output_type'] = 'display_data';\n",
              "          await google.colab.output.renderOutput(dataTable, element);\n",
              "          const docLink = document.createElement('div');\n",
              "          docLink.innerHTML = docLinkHtml;\n",
              "          element.appendChild(docLink);\n",
              "        }\n",
              "      </script>\n",
              "    </div>\n",
              "  </div>\n",
              "  "
            ]
          },
          "metadata": {},
          "execution_count": 6
        }
      ]
    },
    {
      "cell_type": "code",
      "source": [
        "sns.scatterplot(movies_df.budget, movies_df.revenue)"
      ],
      "metadata": {
        "colab": {
          "base_uri": "https://localhost:8080/",
          "height": 362
        },
        "id": "jxYgR0Y4GV_F",
        "outputId": "c2bee4cd-3e66-40de-e069-c8a08b358a1d"
      },
      "execution_count": 76,
      "outputs": [
        {
          "output_type": "stream",
          "name": "stderr",
          "text": [
            "/usr/local/lib/python3.7/dist-packages/seaborn/_decorators.py:43: FutureWarning: Pass the following variables as keyword args: x, y. From version 0.12, the only valid positional argument will be `data`, and passing other arguments without an explicit keyword will result in an error or misinterpretation.\n",
            "  FutureWarning\n"
          ]
        },
        {
          "output_type": "execute_result",
          "data": {
            "text/plain": [
              "<matplotlib.axes._subplots.AxesSubplot at 0x7f562f5a6a10>"
            ]
          },
          "metadata": {},
          "execution_count": 76
        },
        {
          "output_type": "display_data",
          "data": {
            "text/plain": [
              "<Figure size 432x288 with 1 Axes>"
            ],
            "image/png": "[encoded data removed]"
          },
          "metadata": {
            "needs_background": "light"
          }
        }
      ]
    },
    {
      "cell_type": "code",
      "source": [
        "movies_df.isnull().sum()"
      ],
      "metadata": {
        "colab": {
          "base_uri": "https://localhost:8080/"
        },
        "id": "1QV2IJxRHQYq",
        "outputId": "5eae0161-213a-484b-d736-1727b5763240"
      },
      "execution_count": 7,
      "outputs": [
        {
          "output_type": "execute_result",
          "data": {
            "text/plain": [
              "budget                     0\n",
              "genres                     0\n",
              "homepage                3091\n",
              "id                         0\n",
              "keywords                   0\n",
              "original_language          0\n",
              "original_title             0\n",
              "overview                   3\n",
              "popularity                 0\n",
              "production_companies       0\n",
              "production_countries       0\n",
              "release_date               1\n",
              "revenue                    0\n",
              "runtime                    2\n",
              "spoken_languages           0\n",
              "status                     0\n",
              "tagline                  844\n",
              "title                      0\n",
              "vote_average               0\n",
              "vote_count                 0\n",
              "dtype: int64"
            ]
          },
          "metadata": {},
          "execution_count": 7
        }
      ]
    },
    {
      "cell_type": "code",
      "source": [
        "# collect the 50 movies that have hightest revenue\n",
        "title = movies_df.sort_values('revenue', ascending=False)['title'].head(50)\n",
        "revenue = movies_df.sort_values('revenue', ascending=False)['revenue'].head(50)"
      ],
      "metadata": {
        "id": "V-piKwxn6Mqq"
      },
      "execution_count": 58,
      "outputs": []
    },
    {
      "cell_type": "code",
      "source": [
        "plt.subplots(figsize=(10, 10))\n",
        "sns.barplot(x=revenue.values, y=title.values)\n",
        "plt.title('50 Movies that have hightest revenue')"
      ],
      "metadata": {
        "colab": {
          "base_uri": "https://localhost:8080/",
          "height": 638
        },
        "id": "h3lHC4yX8cXz",
        "outputId": "2f1e5ffc-bbdf-4683-a07a-4da1da83110d"
      },
      "execution_count": 60,
      "outputs": [
        {
          "output_type": "execute_result",
          "data": {
            "text/plain": [
              "Text(0.5, 1.0, '50 Movies that have hightest revenue')"
            ]
          },
          "metadata": {},
          "execution_count": 60
        },
        {
          "output_type": "display_data",
          "data": {
            "text/plain": [
              "<Figure size 720x720 with 1 Axes>"
            ],
            "image/png": "[encoded data removed]"
          },
          "metadata": {
            "needs_background": "light"
          }
        }
      ]
    },
    {
      "cell_type": "code",
      "source": [
        "# collect the 50 movies that have hightest budget\n",
        "title = movies_df.sort_values('budget', ascending=False)['title'].head(50)\n",
        "budget = movies_df.sort_values('budget', ascending=False)['budget'].head(50)"
      ],
      "metadata": {
        "id": "tn55O4RZ9Zl0"
      },
      "execution_count": 61,
      "outputs": []
    },
    {
      "cell_type": "code",
      "source": [
        "plt.subplots(figsize=(10, 10))\n",
        "sns.barplot(x=budget.values, y=title.values)\n",
        "plt.title('50 Movies that have hightest budget')"
      ],
      "metadata": {
        "colab": {
          "base_uri": "https://localhost:8080/",
          "height": 638
        },
        "id": "HGwN_MS89htu",
        "outputId": "01eeed02-23c2-4805-95b6-806941ecd540"
      },
      "execution_count": 62,
      "outputs": [
        {
          "output_type": "execute_result",
          "data": {
            "text/plain": [
              "Text(0.5, 1.0, '50 Movies that have hightest budget')"
            ]
          },
          "metadata": {},
          "execution_count": 62
        },
        {
          "output_type": "display_data",
          "data": {
            "text/plain": [
              "<Figure size 720x720 with 1 Axes>"
            ],
            "image/png": "[encoded data removed]"
          },
          "metadata": {
            "needs_background": "light"
          }
        }
      ]
    },
    {
      "cell_type": "code",
      "source": [
        "# visualize popularity, runtime, vote_average, vote_count\n",
        "\n",
        "fig, ax = plt.subplots(2, 1, figsize=(10, 20))\n",
        "\n",
        "sns.barplot(movies_df.popularity.head(50), movies_df.title.head(50), ax=ax[0])\n",
        "sns.barplot(movies_df.runtime.head(50), movies_df.title.head(50), ax=ax[1])"
      ],
      "metadata": {
        "colab": {
          "base_uri": "https://localhost:8080/",
          "height": 1000
        },
        "id": "HwR1IExLgcaL",
        "outputId": "c79ebfc7-28dd-4723-e3c9-7ea490fa9a7e"
      },
      "execution_count": 72,
      "outputs": [
        {
          "output_type": "stream",
          "name": "stderr",
          "text": [
            "/usr/local/lib/python3.7/dist-packages/seaborn/_decorators.py:43: FutureWarning: Pass the following variables as keyword args: x, y. From version 0.12, the only valid positional argument will be `data`, and passing other arguments without an explicit keyword will result in an error or misinterpretation.\n",
            "  FutureWarning\n",
            "/usr/local/lib/python3.7/dist-packages/seaborn/_decorators.py:43: FutureWarning: Pass the following variables as keyword args: x, y. From version 0.12, the only valid positional argument will be `data`, and passing other arguments without an explicit keyword will result in an error or misinterpretation.\n",
            "  FutureWarning\n"
          ]
        },
        {
          "output_type": "execute_result",
          "data": {
            "text/plain": [
              "<matplotlib.axes._subplots.AxesSubplot at 0x7f562fafa7d0>"
            ]
          },
          "metadata": {},
          "execution_count": 72
        },
        {
          "output_type": "display_data",
          "data": {
            "text/plain": [
              "<Figure size 720x1440 with 2 Axes>"
            ],
            "image/png": "[encoded data removed]"
          },
          "metadata": {
            "needs_background": "light"
          }
        }
      ]
    },
    {
      "cell_type": "code",
      "source": [
        "sns.histplot(movies_df.vote_average)"
      ],
      "metadata": {
        "colab": {
          "base_uri": "https://localhost:8080/",
          "height": 297
        },
        "id": "mdE0386gC7E8",
        "outputId": "82186d13-c4e3-4385-f52d-f34de8739cbc"
      },
      "execution_count": 74,
      "outputs": [
        {
          "output_type": "execute_result",
          "data": {
            "text/plain": [
              "<matplotlib.axes._subplots.AxesSubplot at 0x7f562ffeef50>"
            ]
          },
          "metadata": {},
          "execution_count": 74
        },
        {
          "output_type": "display_data",
          "data": {
            "text/plain": [
              "<Figure size 432x288 with 1 Axes>"
            ],
            "image/png": "[encoded data removed]"
          },
          "metadata": {
            "needs_background": "light"
          }
        }
      ]
    },
    {
      "cell_type": "code",
      "source": [
        "credits_df.head()"
      ],
      "metadata": {
        "colab": {
          "base_uri": "https://localhost:8080/",
          "height": 206
        },
        "id": "ZIjWCcl7toDR",
        "outputId": "b908706d-b2c0-4ee7-a01e-a6fd06a17b1a"
      },
      "execution_count": 9,
      "outputs": [
        {
          "output_type": "execute_result",
          "data": {
            "text/plain": [
              "   movie_id                                     title  \\\n",
              "0     19995                                    Avatar   \n",
              "1       285  Pirates of the Caribbean: At World's End   \n",
              "2    206647                                   Spectre   \n",
              "3     49026                     The Dark Knight Rises   \n",
              "4     49529                               John Carter   \n",
              "\n",
              "                                                cast  \\\n",
              "0  [{\"cast_id\": 242, \"character\": \"Jake Sully\", \"...   \n",
              "1  [{\"cast_id\": 4, \"character\": \"Captain Jack Spa...   \n",
              "2  [{\"cast_id\": 1, \"character\": \"James Bond\", \"cr...   \n",
              "3  [{\"cast_id\": 2, \"character\": \"Bruce Wayne / Ba...   \n",
              "4  [{\"cast_id\": 5, \"character\": \"John Carter\", \"c...   \n",
              "\n",
              "                                                crew  \n",
              "0  [{\"credit_id\": \"52fe48009251416c750aca23\", \"de...  \n",
              "1  [{\"credit_id\": \"52fe4232c3a36847f800b579\", \"de...  \n",
              "2  [{\"credit_id\": \"54805967c3a36829b5002c41\", \"de...  \n",
              "3  [{\"credit_id\": \"52fe4781c3a36847f81398c3\", \"de...  \n",
              "4  [{\"credit_id\": \"52fe479ac3a36847f813eaa3\", \"de...  "
            ],
            "text/html": [
              "\n",
              "  <div id=\"df-0c939d06-9ca6-4e1c-a241-6865b92c4693\">\n",
              "    <div class=\"colab-df-container\">\n",
              "      <div>\n",
              "<style scoped>\n",
              "    .dataframe tbody tr th:only-of-type {\n",
              "        vertical-align: middle;\n",
              "    }\n",
              "\n",
              "    .dataframe tbody tr th {\n",
              "        vertical-align: top;\n",
              "    }\n",
              "\n",
              "    .dataframe thead th {\n",
              "        text-align: right;\n",
              "    }\n",
              "</style>\n",
              "<table border=\"1\" class=\"dataframe\">\n",
              "  <thead>\n",
              "    <tr style=\"text-align: right;\">\n",
              "      <th></th>\n",
              "      <th>movie_id</th>\n",
              "      <th>title</th>\n",
              "      <th>cast</th>\n",
              "      <th>crew</th>\n",
              "    </tr>\n",
              "  </thead>\n",
              "  <tbody>\n",
              "    <tr>\n",
              "      <th>0</th>\n",
              "      <td>19995</td>\n",
              "      <td>Avatar</td>\n",
              "      <td>[{\"cast_id\": 242, \"character\": \"Jake Sully\", \"...</td>\n",
              "      <td>[{\"credit_id\": \"52fe48009251416c750aca23\", \"de...</td>\n",
              "    </tr>\n",
              "    <tr>\n",
              "      <th>1</th>\n",
              "      <td>285</td>\n",
              "      <td>Pirates of the Caribbean: At World's End</td>\n",
              "      <td>[{\"cast_id\": 4, \"character\": \"Captain Jack Spa...</td>\n",
              "      <td>[{\"credit_id\": \"52fe4232c3a36847f800b579\", \"de...</td>\n",
              "    </tr>\n",
              "    <tr>\n",
              "      <th>2</th>\n",
              "      <td>206647</td>\n",
              "      <td>Spectre</td>\n",
              "      <td>[{\"cast_id\": 1, \"character\": \"James Bond\", \"cr...</td>\n",
              "      <td>[{\"credit_id\": \"54805967c3a36829b5002c41\", \"de...</td>\n",
              "    </tr>\n",
              "    <tr>\n",
              "      <th>3</th>\n",
              "      <td>49026</td>\n",
              "      <td>The Dark Knight Rises</td>\n",
              "      <td>[{\"cast_id\": 2, \"character\": \"Bruce Wayne / Ba...</td>\n",
              "      <td>[{\"credit_id\": \"52fe4781c3a36847f81398c3\", \"de...</td>\n",
              "    </tr>\n",
              "    <tr>\n",
              "      <th>4</th>\n",
              "      <td>49529</td>\n",
              "      <td>John Carter</td>\n",
              "      <td>[{\"cast_id\": 5, \"character\": \"John Carter\", \"c...</td>\n",
              "      <td>[{\"credit_id\": \"52fe479ac3a36847f813eaa3\", \"de...</td>\n",
              "    </tr>\n",
              "  </tbody>\n",
              "</table>\n",
              "</div>\n",
              "      <button class=\"colab-df-convert\" onclick=\"convertToInteractive('df-0c939d06-9ca6-4e1c-a241-6865b92c4693')\"\n",
              "              title=\"Convert this dataframe to an interactive table.\"\n",
              "              style=\"display:none;\">\n",
              "        \n",
              "  <svg xmlns=\"http://www.w3.org/2000/svg\" height=\"24px\"viewBox=\"0 0 24 24\"\n",
              "       width=\"24px\">\n",
              "    <path d=\"M0 0h24v24H0V0z\" fill=\"none\"/>\n",
              "    <path d=\"M18.56 5.44l.94 2.06.94-2.06 2.06-.94-2.06-.94-.94-2.06-.94 2.06-2.06.94zm-11 1L8.5 8.5l.94-2.06 2.06-.94-2.06-.94L8.5 2.5l-.94 2.06-2.06.94zm10 10l.94 2.06.94-2.06 2.06-.94-2.06-.94-.94-2.06-.94 2.06-2.06.94z\"/><path d=\"M17.41 7.96l-1.37-1.37c-.4-.4-.92-.59-1.43-.59-.52 0-1.04.2-1.43.59L10.3 9.45l-7.72 7.72c-.78.78-.78 2.05 0 2.83L4 21.41c.39.39.9.59 1.41.59.51 0 1.02-.2 1.41-.59l7.78-7.78 2.81-2.81c.8-.78.8-2.07 0-2.86zM5.41 20L4 18.59l7.72-7.72 1.47 1.35L5.41 20z\"/>\n",
              "  </svg>\n",
              "      </button>\n",
              "      \n",
              "  <style>\n",
              "    .colab-df-container {\n",
              "      display:flex;\n",
              "      flex-wrap:wrap;\n",
              "      gap: 12px;\n",
              "    }\n",
              "\n",
              "    .colab-df-convert {\n",
              "      background-color: #E8F0FE;\n",
              "      border: none;\n",
              "      border-radius: 50%;\n",
              "      cursor: pointer;\n",
              "      display: none;\n",
              "      fill: #1967D2;\n",
              "      height: 32px;\n",
              "      padding: 0 0 0 0;\n",
              "      width: 32px;\n",
              "    }\n",
              "\n",
              "    .colab-df-convert:hover {\n",
              "      background-color: #E2EBFA;\n",
              "      box-shadow: 0px 1px 2px rgba(60, 64, 67, 0.3), 0px 1px 3px 1px rgba(60, 64, 67, 0.15);\n",
              "      fill: #174EA6;\n",
              "    }\n",
              "\n",
              "    [theme=dark] .colab-df-convert {\n",
              "      background-color: #3B4455;\n",
              "      fill: #D2E3FC;\n",
              "    }\n",
              "\n",
              "    [theme=dark] .colab-df-convert:hover {\n",
              "      background-color: #434B5C;\n",
              "      box-shadow: 0px 1px 3px 1px rgba(0, 0, 0, 0.15);\n",
              "      filter: drop-shadow(0px 1px 2px rgba(0, 0, 0, 0.3));\n",
              "      fill: #FFFFFF;\n",
              "    }\n",
              "  </style>\n",
              "\n",
              "      <script>\n",
              "        const buttonEl =\n",
              "          document.querySelector('#df-0c939d06-9ca6-4e1c-a241-6865b92c4693 button.colab-df-convert');\n",
              "        buttonEl.style.display =\n",
              "          google.colab.kernel.accessAllowed ? 'block' : 'none';\n",
              "\n",
              "        async function convertToInteractive(key) {\n",
              "          const element = document.querySelector('#df-0c939d06-9ca6-4e1c-a241-6865b92c4693');\n",
              "          const dataTable =\n",
              "            await google.colab.kernel.invokeFunction('convertToInteractive',\n",
              "                                                     [key], {});\n",
              "          if (!dataTable) return;\n",
              "\n",
              "          const docLinkHtml = 'Like what you see? Visit the ' +\n",
              "            '<a target=\"_blank\" href=https://colab.research.google.com/notebooks/data_table.ipynb>data table notebook</a>'\n",
              "            + ' to learn more about interactive tables.';\n",
              "          element.innerHTML = '';\n",
              "          dataTable['output_type'] = 'display_data';\n",
              "          await google.colab.output.renderOutput(dataTable, element);\n",
              "          const docLink = document.createElement('div');\n",
              "          docLink.innerHTML = docLinkHtml;\n",
              "          element.appendChild(docLink);\n",
              "        }\n",
              "      </script>\n",
              "    </div>\n",
              "  </div>\n",
              "  "
            ]
          },
          "metadata": {},
          "execution_count": 9
        }
      ]
    },
    {
      "cell_type": "code",
      "source": [
        "credits_df.info()"
      ],
      "metadata": {
        "colab": {
          "base_uri": "https://localhost:8080/"
        },
        "id": "a8CQ75MFHYb7",
        "outputId": "b19ab9a8-b9d6-4178-85e6-2fedd314f8a2"
      },
      "execution_count": 10,
      "outputs": [
        {
          "output_type": "stream",
          "name": "stdout",
          "text": [
            "<class 'pandas.core.frame.DataFrame'>\n",
            "RangeIndex: 4803 entries, 0 to 4802\n",
            "Data columns (total 4 columns):\n",
            " #   Column    Non-Null Count  Dtype \n",
            "---  ------    --------------  ----- \n",
            " 0   movie_id  4803 non-null   int64 \n",
            " 1   title     4803 non-null   object\n",
            " 2   cast      4803 non-null   object\n",
            " 3   crew      4803 non-null   object\n",
            "dtypes: int64(1), object(3)\n",
            "memory usage: 150.2+ KB\n"
          ]
        }
      ]
    },
    {
      "cell_type": "code",
      "source": [
        "credits_df.isnull().sum()"
      ],
      "metadata": {
        "colab": {
          "base_uri": "https://localhost:8080/"
        },
        "id": "rH69oBwLHb88",
        "outputId": "b186210b-1275-487b-c9e0-c1f282a2ddc8"
      },
      "execution_count": 11,
      "outputs": [
        {
          "output_type": "execute_result",
          "data": {
            "text/plain": [
              "movie_id    0\n",
              "title       0\n",
              "cast        0\n",
              "crew        0\n",
              "dtype: int64"
            ]
          },
          "metadata": {},
          "execution_count": 11
        }
      ]
    },
    {
      "cell_type": "code",
      "source": [
        "# rename the movie_id to marge it with the other dataset\n",
        "credits_df.rename(columns={'movie_id': 'id'},inplace=True)"
      ],
      "metadata": {
        "id": "YPaq8AgAttTX"
      },
      "execution_count": 12,
      "outputs": []
    },
    {
      "cell_type": "code",
      "source": [
        "credits_df.columns"
      ],
      "metadata": {
        "colab": {
          "base_uri": "https://localhost:8080/"
        },
        "id": "ZrG00RGYvXGQ",
        "outputId": "1767381e-35a0-46cd-bd35-2d67b7a2e2d6"
      },
      "execution_count": 13,
      "outputs": [
        {
          "output_type": "execute_result",
          "data": {
            "text/plain": [
              "Index(['id', 'title', 'cast', 'crew'], dtype='object')"
            ]
          },
          "metadata": {},
          "execution_count": 13
        }
      ]
    },
    {
      "cell_type": "code",
      "source": [
        "# select the necessary columns\n",
        "movies_data = movies_df[['id','genres', 'overview','keywords','production_companies']]\n",
        "movies_data.head()"
      ],
      "metadata": {
        "colab": {
          "base_uri": "https://localhost:8080/",
          "height": 206
        },
        "id": "bVR5eO6luobu",
        "outputId": "8e1001a4-f69a-419c-efeb-ea3aabd60426"
      },
      "execution_count": 14,
      "outputs": [
        {
          "output_type": "execute_result",
          "data": {
            "text/plain": [
              "       id                                             genres  \\\n",
              "0   19995  [{\"id\": 28, \"name\": \"Action\"}, {\"id\": 12, \"nam...   \n",
              "1     285  [{\"id\": 12, \"name\": \"Adventure\"}, {\"id\": 14, \"...   \n",
              "2  206647  [{\"id\": 28, \"name\": \"Action\"}, {\"id\": 12, \"nam...   \n",
              "3   49026  [{\"id\": 28, \"name\": \"Action\"}, {\"id\": 80, \"nam...   \n",
              "4   49529  [{\"id\": 28, \"name\": \"Action\"}, {\"id\": 12, \"nam...   \n",
              "\n",
              "                                            overview  \\\n",
              "0  In the 22nd century, a paraplegic Marine is di...   \n",
              "1  Captain Barbossa, long believed to be dead, ha...   \n",
              "2  A cryptic message from Bond’s past sends him o...   \n",
              "3  Following the death of District Attorney Harve...   \n",
              "4  John Carter is a war-weary, former military ca...   \n",
              "\n",
              "                                            keywords  \\\n",
              "0  [{\"id\": 1463, \"name\": \"culture clash\"}, {\"id\":...   \n",
              "1  [{\"id\": 270, \"name\": \"ocean\"}, {\"id\": 726, \"na...   \n",
              "2  [{\"id\": 470, \"name\": \"spy\"}, {\"id\": 818, \"name...   \n",
              "3  [{\"id\": 849, \"name\": \"dc comics\"}, {\"id\": 853,...   \n",
              "4  [{\"id\": 818, \"name\": \"based on novel\"}, {\"id\":...   \n",
              "\n",
              "                                production_companies  \n",
              "0  [{\"name\": \"Ingenious Film Partners\", \"id\": 289...  \n",
              "1  [{\"name\": \"Walt Disney Pictures\", \"id\": 2}, {\"...  \n",
              "2  [{\"name\": \"Columbia Pictures\", \"id\": 5}, {\"nam...  \n",
              "3  [{\"name\": \"Legendary Pictures\", \"id\": 923}, {\"...  \n",
              "4        [{\"name\": \"Walt Disney Pictures\", \"id\": 2}]  "
            ],
            "text/html": [
              "\n",
              "  <div id=\"df-3a3f31f3-1e00-47a9-8b72-91c944e0f682\">\n",
              "    <div class=\"colab-df-container\">\n",
              "      <div>\n",
              "<style scoped>\n",
              "    .dataframe tbody tr th:only-of-type {\n",
              "        vertical-align: middle;\n",
              "    }\n",
              "\n",
              "    .dataframe tbody tr th {\n",
              "        vertical-align: top;\n",
              "    }\n",
              "\n",
              "    .dataframe thead th {\n",
              "        text-align: right;\n",
              "    }\n",
              "</style>\n",
              "<table border=\"1\" class=\"dataframe\">\n",
              "  <thead>\n",
              "    <tr style=\"text-align: right;\">\n",
              "      <th></th>\n",
              "      <th>id</th>\n",
              "      <th>genres</th>\n",
              "      <th>overview</th>\n",
              "      <th>keywords</th>\n",
              "      <th>production_companies</th>\n",
              "    </tr>\n",
              "  </thead>\n",
              "  <tbody>\n",
              "    <tr>\n",
              "      <th>0</th>\n",
              "      <td>19995</td>\n",
              "      <td>[{\"id\": 28, \"name\": \"Action\"}, {\"id\": 12, \"nam...</td>\n",
              "      <td>In the 22nd century, a paraplegic Marine is di...</td>\n",
              "      <td>[{\"id\": 1463, \"name\": \"culture clash\"}, {\"id\":...</td>\n",
              "      <td>[{\"name\": \"Ingenious Film Partners\", \"id\": 289...</td>\n",
              "    </tr>\n",
              "    <tr>\n",
              "      <th>1</th>\n",
              "      <td>285</td>\n",
              "      <td>[{\"id\": 12, \"name\": \"Adventure\"}, {\"id\": 14, \"...</td>\n",
              "      <td>Captain Barbossa, long believed to be dead, ha...</td>\n",
              "      <td>[{\"id\": 270, \"name\": \"ocean\"}, {\"id\": 726, \"na...</td>\n",
              "      <td>[{\"name\": \"Walt Disney Pictures\", \"id\": 2}, {\"...</td>\n",
              "    </tr>\n",
              "    <tr>\n",
              "      <th>2</th>\n",
              "      <td>206647</td>\n",
              "      <td>[{\"id\": 28, \"name\": \"Action\"}, {\"id\": 12, \"nam...</td>\n",
              "      <td>A cryptic message from Bond’s past sends him o...</td>\n",
              "      <td>[{\"id\": 470, \"name\": \"spy\"}, {\"id\": 818, \"name...</td>\n",
              "      <td>[{\"name\": \"Columbia Pictures\", \"id\": 5}, {\"nam...</td>\n",
              "    </tr>\n",
              "    <tr>\n",
              "      <th>3</th>\n",
              "      <td>49026</td>\n",
              "      <td>[{\"id\": 28, \"name\": \"Action\"}, {\"id\": 80, \"nam...</td>\n",
              "      <td>Following the death of District Attorney Harve...</td>\n",
              "      <td>[{\"id\": 849, \"name\": \"dc comics\"}, {\"id\": 853,...</td>\n",
              "      <td>[{\"name\": \"Legendary Pictures\", \"id\": 923}, {\"...</td>\n",
              "    </tr>\n",
              "    <tr>\n",
              "      <th>4</th>\n",
              "      <td>49529</td>\n",
              "      <td>[{\"id\": 28, \"name\": \"Action\"}, {\"id\": 12, \"nam...</td>\n",
              "      <td>John Carter is a war-weary, former military ca...</td>\n",
              "      <td>[{\"id\": 818, \"name\": \"based on novel\"}, {\"id\":...</td>\n",
              "      <td>[{\"name\": \"Walt Disney Pictures\", \"id\": 2}]</td>\n",
              "    </tr>\n",
              "  </tbody>\n",
              "</table>\n",
              "</div>\n",
              "      <button class=\"colab-df-convert\" onclick=\"convertToInteractive('df-3a3f31f3-1e00-47a9-8b72-91c944e0f682')\"\n",
              "              title=\"Convert this dataframe to an interactive table.\"\n",
              "              style=\"display:none;\">\n",
              "        \n",
              "  <svg xmlns=\"http://www.w3.org/2000/svg\" height=\"24px\"viewBox=\"0 0 24 24\"\n",
              "       width=\"24px\">\n",
              "    <path d=\"M0 0h24v24H0V0z\" fill=\"none\"/>\n",
              "    <path d=\"M18.56 5.44l.94 2.06.94-2.06 2.06-.94-2.06-.94-.94-2.06-.94 2.06-2.06.94zm-11 1L8.5 8.5l.94-2.06 2.06-.94-2.06-.94L8.5 2.5l-.94 2.06-2.06.94zm10 10l.94 2.06.94-2.06 2.06-.94-2.06-.94-.94-2.06-.94 2.06-2.06.94z\"/><path d=\"M17.41 7.96l-1.37-1.37c-.4-.4-.92-.59-1.43-.59-.52 0-1.04.2-1.43.59L10.3 9.45l-7.72 7.72c-.78.78-.78 2.05 0 2.83L4 21.41c.39.39.9.59 1.41.59.51 0 1.02-.2 1.41-.59l7.78-7.78 2.81-2.81c.8-.78.8-2.07 0-2.86zM5.41 20L4 18.59l7.72-7.72 1.47 1.35L5.41 20z\"/>\n",
              "  </svg>\n",
              "      </button>\n",
              "      \n",
              "  <style>\n",
              "    .colab-df-container {\n",
              "      display:flex;\n",
              "      flex-wrap:wrap;\n",
              "      gap: 12px;\n",
              "    }\n",
              "\n",
              "    .colab-df-convert {\n",
              "      background-color: #E8F0FE;\n",
              "      border: none;\n",
              "      border-radius: 50%;\n",
              "      cursor: pointer;\n",
              "      display: none;\n",
              "      fill: #1967D2;\n",
              "      height: 32px;\n",
              "      padding: 0 0 0 0;\n",
              "      width: 32px;\n",
              "    }\n",
              "\n",
              "    .colab-df-convert:hover {\n",
              "      background-color: #E2EBFA;\n",
              "      box-shadow: 0px 1px 2px rgba(60, 64, 67, 0.3), 0px 1px 3px 1px rgba(60, 64, 67, 0.15);\n",
              "      fill: #174EA6;\n",
              "    }\n",
              "\n",
              "    [theme=dark] .colab-df-convert {\n",
              "      background-color: #3B4455;\n",
              "      fill: #D2E3FC;\n",
              "    }\n",
              "\n",
              "    [theme=dark] .colab-df-convert:hover {\n",
              "      background-color: #434B5C;\n",
              "      box-shadow: 0px 1px 3px 1px rgba(0, 0, 0, 0.15);\n",
              "      filter: drop-shadow(0px 1px 2px rgba(0, 0, 0, 0.3));\n",
              "      fill: #FFFFFF;\n",
              "    }\n",
              "  </style>\n",
              "\n",
              "      <script>\n",
              "        const buttonEl =\n",
              "          document.querySelector('#df-3a3f31f3-1e00-47a9-8b72-91c944e0f682 button.colab-df-convert');\n",
              "        buttonEl.style.display =\n",
              "          google.colab.kernel.accessAllowed ? 'block' : 'none';\n",
              "\n",
              "        async function convertToInteractive(key) {\n",
              "          const element = document.querySelector('#df-3a3f31f3-1e00-47a9-8b72-91c944e0f682');\n",
              "          const dataTable =\n",
              "            await google.colab.kernel.invokeFunction('convertToInteractive',\n",
              "                                                     [key], {});\n",
              "          if (!dataTable) return;\n",
              "\n",
              "          const docLinkHtml = 'Like what you see? Visit the ' +\n",
              "            '<a target=\"_blank\" href=https://colab.research.google.com/notebooks/data_table.ipynb>data table notebook</a>'\n",
              "            + ' to learn more about interactive tables.';\n",
              "          element.innerHTML = '';\n",
              "          dataTable['output_type'] = 'display_data';\n",
              "          await google.colab.output.renderOutput(dataTable, element);\n",
              "          const docLink = document.createElement('div');\n",
              "          docLink.innerHTML = docLinkHtml;\n",
              "          element.appendChild(docLink);\n",
              "        }\n",
              "      </script>\n",
              "    </div>\n",
              "  </div>\n",
              "  "
            ]
          },
          "metadata": {},
          "execution_count": 14
        }
      ]
    },
    {
      "cell_type": "code",
      "source": [
        "# merge both datasets\n",
        "movies_data = movies_data.merge(credits_df, on=\"id\")\n",
        "movies_data.head()"
      ],
      "metadata": {
        "colab": {
          "base_uri": "https://localhost:8080/",
          "height": 424
        },
        "id": "yO8ZptqTusNS",
        "outputId": "0f41c31f-c9e1-465c-b919-2e45249d36d8"
      },
      "execution_count": 15,
      "outputs": [
        {
          "output_type": "execute_result",
          "data": {
            "text/plain": [
              "       id                                             genres  \\\n",
              "0   19995  [{\"id\": 28, \"name\": \"Action\"}, {\"id\": 12, \"nam...   \n",
              "1     285  [{\"id\": 12, \"name\": \"Adventure\"}, {\"id\": 14, \"...   \n",
              "2  206647  [{\"id\": 28, \"name\": \"Action\"}, {\"id\": 12, \"nam...   \n",
              "3   49026  [{\"id\": 28, \"name\": \"Action\"}, {\"id\": 80, \"nam...   \n",
              "4   49529  [{\"id\": 28, \"name\": \"Action\"}, {\"id\": 12, \"nam...   \n",
              "\n",
              "                                            overview  \\\n",
              "0  In the 22nd century, a paraplegic Marine is di...   \n",
              "1  Captain Barbossa, long believed to be dead, ha...   \n",
              "2  A cryptic message from Bond’s past sends him o...   \n",
              "3  Following the death of District Attorney Harve...   \n",
              "4  John Carter is a war-weary, former military ca...   \n",
              "\n",
              "                                            keywords  \\\n",
              "0  [{\"id\": 1463, \"name\": \"culture clash\"}, {\"id\":...   \n",
              "1  [{\"id\": 270, \"name\": \"ocean\"}, {\"id\": 726, \"na...   \n",
              "2  [{\"id\": 470, \"name\": \"spy\"}, {\"id\": 818, \"name...   \n",
              "3  [{\"id\": 849, \"name\": \"dc comics\"}, {\"id\": 853,...   \n",
              "4  [{\"id\": 818, \"name\": \"based on novel\"}, {\"id\":...   \n",
              "\n",
              "                                production_companies  \\\n",
              "0  [{\"name\": \"Ingenious Film Partners\", \"id\": 289...   \n",
              "1  [{\"name\": \"Walt Disney Pictures\", \"id\": 2}, {\"...   \n",
              "2  [{\"name\": \"Columbia Pictures\", \"id\": 5}, {\"nam...   \n",
              "3  [{\"name\": \"Legendary Pictures\", \"id\": 923}, {\"...   \n",
              "4        [{\"name\": \"Walt Disney Pictures\", \"id\": 2}]   \n",
              "\n",
              "                                      title  \\\n",
              "0                                    Avatar   \n",
              "1  Pirates of the Caribbean: At World's End   \n",
              "2                                   Spectre   \n",
              "3                     The Dark Knight Rises   \n",
              "4                               John Carter   \n",
              "\n",
              "                                                cast  \\\n",
              "0  [{\"cast_id\": 242, \"character\": \"Jake Sully\", \"...   \n",
              "1  [{\"cast_id\": 4, \"character\": \"Captain Jack Spa...   \n",
              "2  [{\"cast_id\": 1, \"character\": \"James Bond\", \"cr...   \n",
              "3  [{\"cast_id\": 2, \"character\": \"Bruce Wayne / Ba...   \n",
              "4  [{\"cast_id\": 5, \"character\": \"John Carter\", \"c...   \n",
              "\n",
              "                                                crew  \n",
              "0  [{\"credit_id\": \"52fe48009251416c750aca23\", \"de...  \n",
              "1  [{\"credit_id\": \"52fe4232c3a36847f800b579\", \"de...  \n",
              "2  [{\"credit_id\": \"54805967c3a36829b5002c41\", \"de...  \n",
              "3  [{\"credit_id\": \"52fe4781c3a36847f81398c3\", \"de...  \n",
              "4  [{\"credit_id\": \"52fe479ac3a36847f813eaa3\", \"de...  "
            ],
            "text/html": [
              "\n",
              "  <div id=\"df-5ceaa34d-ee23-4bbd-901c-caadc3901801\">\n",
              "    <div class=\"colab-df-container\">\n",
              "      <div>\n",
              "<style scoped>\n",
              "    .dataframe tbody tr th:only-of-type {\n",
              "        vertical-align: middle;\n",
              "    }\n",
              "\n",
              "    .dataframe tbody tr th {\n",
              "        vertical-align: top;\n",
              "    }\n",
              "\n",
              "    .dataframe thead th {\n",
              "        text-align: right;\n",
              "    }\n",
              "</style>\n",
              "<table border=\"1\" class=\"dataframe\">\n",
              "  <thead>\n",
              "    <tr style=\"text-align: right;\">\n",
              "      <th></th>\n",
              "      <th>id</th>\n",
              "      <th>genres</th>\n",
              "      <th>overview</th>\n",
              "      <th>keywords</th>\n",
              "      <th>production_companies</th>\n",
              "      <th>title</th>\n",
              "      <th>cast</th>\n",
              "      <th>crew</th>\n",
              "    </tr>\n",
              "  </thead>\n",
              "  <tbody>\n",
              "    <tr>\n",
              "      <th>0</th>\n",
              "      <td>19995</td>\n",
              "      <td>[{\"id\": 28, \"name\": \"Action\"}, {\"id\": 12, \"nam...</td>\n",
              "      <td>In the 22nd century, a paraplegic Marine is di...</td>\n",
              "      <td>[{\"id\": 1463, \"name\": \"culture clash\"}, {\"id\":...</td>\n",
              "      <td>[{\"name\": \"Ingenious Film Partners\", \"id\": 289...</td>\n",
              "      <td>Avatar</td>\n",
              "      <td>[{\"cast_id\": 242, \"character\": \"Jake Sully\", \"...</td>\n",
              "      <td>[{\"credit_id\": \"52fe48009251416c750aca23\", \"de...</td>\n",
              "    </tr>\n",
              "    <tr>\n",
              "      <th>1</th>\n",
              "      <td>285</td>\n",
              "      <td>[{\"id\": 12, \"name\": \"Adventure\"}, {\"id\": 14, \"...</td>\n",
              "      <td>Captain Barbossa, long believed to be dead, ha...</td>\n",
              "      <td>[{\"id\": 270, \"name\": \"ocean\"}, {\"id\": 726, \"na...</td>\n",
              "      <td>[{\"name\": \"Walt Disney Pictures\", \"id\": 2}, {\"...</td>\n",
              "      <td>Pirates of the Caribbean: At World's End</td>\n",
              "      <td>[{\"cast_id\": 4, \"character\": \"Captain Jack Spa...</td>\n",
              "      <td>[{\"credit_id\": \"52fe4232c3a36847f800b579\", \"de...</td>\n",
              "    </tr>\n",
              "    <tr>\n",
              "      <th>2</th>\n",
              "      <td>206647</td>\n",
              "      <td>[{\"id\": 28, \"name\": \"Action\"}, {\"id\": 12, \"nam...</td>\n",
              "      <td>A cryptic message from Bond’s past sends him o...</td>\n",
              "      <td>[{\"id\": 470, \"name\": \"spy\"}, {\"id\": 818, \"name...</td>\n",
              "      <td>[{\"name\": \"Columbia Pictures\", \"id\": 5}, {\"nam...</td>\n",
              "      <td>Spectre</td>\n",
              "      <td>[{\"cast_id\": 1, \"character\": \"James Bond\", \"cr...</td>\n",
              "      <td>[{\"credit_id\": \"54805967c3a36829b5002c41\", \"de...</td>\n",
              "    </tr>\n",
              "    <tr>\n",
              "      <th>3</th>\n",
              "      <td>49026</td>\n",
              "      <td>[{\"id\": 28, \"name\": \"Action\"}, {\"id\": 80, \"nam...</td>\n",
              "      <td>Following the death of District Attorney Harve...</td>\n",
              "      <td>[{\"id\": 849, \"name\": \"dc comics\"}, {\"id\": 853,...</td>\n",
              "      <td>[{\"name\": \"Legendary Pictures\", \"id\": 923}, {\"...</td>\n",
              "      <td>The Dark Knight Rises</td>\n",
              "      <td>[{\"cast_id\": 2, \"character\": \"Bruce Wayne / Ba...</td>\n",
              "      <td>[{\"credit_id\": \"52fe4781c3a36847f81398c3\", \"de...</td>\n",
              "    </tr>\n",
              "    <tr>\n",
              "      <th>4</th>\n",
              "      <td>49529</td>\n",
              "      <td>[{\"id\": 28, \"name\": \"Action\"}, {\"id\": 12, \"nam...</td>\n",
              "      <td>John Carter is a war-weary, former military ca...</td>\n",
              "      <td>[{\"id\": 818, \"name\": \"based on novel\"}, {\"id\":...</td>\n",
              "      <td>[{\"name\": \"Walt Disney Pictures\", \"id\": 2}]</td>\n",
              "      <td>John Carter</td>\n",
              "      <td>[{\"cast_id\": 5, \"character\": \"John Carter\", \"c...</td>\n",
              "      <td>[{\"credit_id\": \"52fe479ac3a36847f813eaa3\", \"de...</td>\n",
              "    </tr>\n",
              "  </tbody>\n",
              "</table>\n",
              "</div>\n",
              "      <button class=\"colab-df-convert\" onclick=\"convertToInteractive('df-5ceaa34d-ee23-4bbd-901c-caadc3901801')\"\n",
              "              title=\"Convert this dataframe to an interactive table.\"\n",
              "              style=\"display:none;\">\n",
              "        \n",
              "  <svg xmlns=\"http://www.w3.org/2000/svg\" height=\"24px\"viewBox=\"0 0 24 24\"\n",
              "       width=\"24px\">\n",
              "    <path d=\"M0 0h24v24H0V0z\" fill=\"none\"/>\n",
              "    <path d=\"M18.56 5.44l.94 2.06.94-2.06 2.06-.94-2.06-.94-.94-2.06-.94 2.06-2.06.94zm-11 1L8.5 8.5l.94-2.06 2.06-.94-2.06-.94L8.5 2.5l-.94 2.06-2.06.94zm10 10l.94 2.06.94-2.06 2.06-.94-2.06-.94-.94-2.06-.94 2.06-2.06.94z\"/><path d=\"M17.41 7.96l-1.37-1.37c-.4-.4-.92-.59-1.43-.59-.52 0-1.04.2-1.43.59L10.3 9.45l-7.72 7.72c-.78.78-.78 2.05 0 2.83L4 21.41c.39.39.9.59 1.41.59.51 0 1.02-.2 1.41-.59l7.78-7.78 2.81-2.81c.8-.78.8-2.07 0-2.86zM5.41 20L4 18.59l7.72-7.72 1.47 1.35L5.41 20z\"/>\n",
              "  </svg>\n",
              "      </button>\n",
              "      \n",
              "  <style>\n",
              "    .colab-df-container {\n",
              "      display:flex;\n",
              "      flex-wrap:wrap;\n",
              "      gap: 12px;\n",
              "    }\n",
              "\n",
              "    .colab-df-convert {\n",
              "      background-color: #E8F0FE;\n",
              "      border: none;\n",
              "      border-radius: 50%;\n",
              "      cursor: pointer;\n",
              "      display: none;\n",
              "      fill: #1967D2;\n",
              "      height: 32px;\n",
              "      padding: 0 0 0 0;\n",
              "      width: 32px;\n",
              "    }\n",
              "\n",
              "    .colab-df-convert:hover {\n",
              "      background-color: #E2EBFA;\n",
              "      box-shadow: 0px 1px 2px rgba(60, 64, 67, 0.3), 0px 1px 3px 1px rgba(60, 64, 67, 0.15);\n",
              "      fill: #174EA6;\n",
              "    }\n",
              "\n",
              "    [theme=dark] .colab-df-convert {\n",
              "      background-color: #3B4455;\n",
              "      fill: #D2E3FC;\n",
              "    }\n",
              "\n",
              "    [theme=dark] .colab-df-convert:hover {\n",
              "      background-color: #434B5C;\n",
              "      box-shadow: 0px 1px 3px 1px rgba(0, 0, 0, 0.15);\n",
              "      filter: drop-shadow(0px 1px 2px rgba(0, 0, 0, 0.3));\n",
              "      fill: #FFFFFF;\n",
              "    }\n",
              "  </style>\n",
              "\n",
              "      <script>\n",
              "        const buttonEl =\n",
              "          document.querySelector('#df-5ceaa34d-ee23-4bbd-901c-caadc3901801 button.colab-df-convert');\n",
              "        buttonEl.style.display =\n",
              "          google.colab.kernel.accessAllowed ? 'block' : 'none';\n",
              "\n",
              "        async function convertToInteractive(key) {\n",
              "          const element = document.querySelector('#df-5ceaa34d-ee23-4bbd-901c-caadc3901801');\n",
              "          const dataTable =\n",
              "            await google.colab.kernel.invokeFunction('convertToInteractive',\n",
              "                                                     [key], {});\n",
              "          if (!dataTable) return;\n",
              "\n",
              "          const docLinkHtml = 'Like what you see? Visit the ' +\n",
              "            '<a target=\"_blank\" href=https://colab.research.google.com/notebooks/data_table.ipynb>data table notebook</a>'\n",
              "            + ' to learn more about interactive tables.';\n",
              "          element.innerHTML = '';\n",
              "          dataTable['output_type'] = 'display_data';\n",
              "          await google.colab.output.renderOutput(dataTable, element);\n",
              "          const docLink = document.createElement('div');\n",
              "          docLink.innerHTML = docLinkHtml;\n",
              "          element.appendChild(docLink);\n",
              "        }\n",
              "      </script>\n",
              "    </div>\n",
              "  </div>\n",
              "  "
            ]
          },
          "metadata": {},
          "execution_count": 15
        }
      ]
    },
    {
      "cell_type": "code",
      "source": [
        "# drop the id column\n",
        "movies_data.drop(columns='id', inplace=True)"
      ],
      "metadata": {
        "id": "kV63IaL4uyo9"
      },
      "execution_count": 16,
      "outputs": []
    },
    {
      "cell_type": "code",
      "source": [
        "movies_data.columns"
      ],
      "metadata": {
        "colab": {
          "base_uri": "https://localhost:8080/"
        },
        "id": "n9kcsspZvp05",
        "outputId": "2883b9f6-916c-4c3c-e122-fea2b6d0a591"
      },
      "execution_count": 17,
      "outputs": [
        {
          "output_type": "execute_result",
          "data": {
            "text/plain": [
              "Index(['genres', 'overview', 'keywords', 'production_companies', 'title',\n",
              "       'cast', 'crew'],\n",
              "      dtype='object')"
            ]
          },
          "metadata": {},
          "execution_count": 17
        }
      ]
    },
    {
      "cell_type": "code",
      "source": [
        "movies_data.info()"
      ],
      "metadata": {
        "colab": {
          "base_uri": "https://localhost:8080/"
        },
        "id": "gZkbb4gRN7kB",
        "outputId": "c8e18e86-8ae1-44b6-bb51-e52689fdd9a0"
      },
      "execution_count": 18,
      "outputs": [
        {
          "output_type": "stream",
          "name": "stdout",
          "text": [
            "<class 'pandas.core.frame.DataFrame'>\n",
            "Int64Index: 4803 entries, 0 to 4802\n",
            "Data columns (total 7 columns):\n",
            " #   Column                Non-Null Count  Dtype \n",
            "---  ------                --------------  ----- \n",
            " 0   genres                4803 non-null   object\n",
            " 1   overview              4800 non-null   object\n",
            " 2   keywords              4803 non-null   object\n",
            " 3   production_companies  4803 non-null   object\n",
            " 4   title                 4803 non-null   object\n",
            " 5   cast                  4803 non-null   object\n",
            " 6   crew                  4803 non-null   object\n",
            "dtypes: object(7)\n",
            "memory usage: 300.2+ KB\n"
          ]
        }
      ]
    },
    {
      "cell_type": "code",
      "source": [
        "movies_data.isnull().sum()"
      ],
      "metadata": {
        "colab": {
          "base_uri": "https://localhost:8080/"
        },
        "id": "opc1PlhoN7gr",
        "outputId": "7b4bcf30-0b32-4ec0-c8c7-2c0ae4c54ca7"
      },
      "execution_count": 19,
      "outputs": [
        {
          "output_type": "execute_result",
          "data": {
            "text/plain": [
              "genres                  0\n",
              "overview                3\n",
              "keywords                0\n",
              "production_companies    0\n",
              "title                   0\n",
              "cast                    0\n",
              "crew                    0\n",
              "dtype: int64"
            ]
          },
          "metadata": {},
          "execution_count": 19
        }
      ]
    },
    {
      "cell_type": "markdown",
      "source": [
        "## 2. Preprocessing"
      ],
      "metadata": {
        "id": "36l9IMrHHrL_"
      }
    },
    {
      "cell_type": "code",
      "source": [
        "dict_columns = ['genres', 'keywords', 'production_companies', 'cast', 'crew']\n",
        "for column in dict_columns:\n",
        "  movies_data[column] = movies_data[column].apply(literal_eval)\n"
      ],
      "metadata": {
        "id": "K3eVS6vhvs0C"
      },
      "execution_count": 20,
      "outputs": []
    },
    {
      "cell_type": "code",
      "source": [
        "copy_movies_data = movies_data.copy()"
      ],
      "metadata": {
        "id": "KklwCw4L2GxL"
      },
      "execution_count": 21,
      "outputs": []
    },
    {
      "cell_type": "code",
      "source": [
        "# extract the name of each company\n",
        "def production_companies(companies):\n",
        "    for details in companies:\n",
        "        return details[\"name\"]\n",
        "    "
      ],
      "metadata": {
        "id": "4L1y3ML3x7vr"
      },
      "execution_count": 22,
      "outputs": []
    },
    {
      "cell_type": "code",
      "source": [
        "copy_movies_data['production_companies'] = movies_data['production_companies'].apply(production_companies)"
      ],
      "metadata": {
        "id": "-9V7nbQsyezD"
      },
      "execution_count": 23,
      "outputs": []
    },
    {
      "cell_type": "code",
      "source": [
        "# extract the name of each genres, keywords and cast columns\n",
        "\n",
        "def get_info(column):\n",
        "    items = 3\n",
        "    details_list = []\n",
        "    while items > 0:\n",
        "        details_list = [details[\"name\"] for details in column]\n",
        "        items = items-1\n",
        "    return details_list"
      ],
      "metadata": {
        "id": "1Zk3y5dY50TB"
      },
      "execution_count": 24,
      "outputs": []
    },
    {
      "cell_type": "code",
      "source": [
        "# extract the name of directors\n",
        "def director(crew):\n",
        "    for details in crew :\n",
        "        if details['job'] == \"Director\":\n",
        "            return details[\"name\"]\n",
        "    return np.nan"
      ],
      "metadata": {
        "id": "i7JO6x9a6PYM"
      },
      "execution_count": 25,
      "outputs": []
    },
    {
      "cell_type": "code",
      "source": [
        "copy_movies_data['director'] = movies_data['crew'].apply(director)"
      ],
      "metadata": {
        "id": "AV7KIEUo6P7s"
      },
      "execution_count": 26,
      "outputs": []
    },
    {
      "cell_type": "code",
      "source": [
        "copy_movies_data['title'] = movies_data['title'].apply(lambda row: row.lower())"
      ],
      "metadata": {
        "id": "3mLH3MM2UiU0"
      },
      "execution_count": 27,
      "outputs": []
    },
    {
      "cell_type": "code",
      "source": [
        "cols = ['genres', 'keywords', 'cast']\n",
        "for col in cols:\n",
        "    copy_movies_data[col] = movies_data[col].apply(get_info)"
      ],
      "metadata": {
        "id": "P8mYFVCH45ox"
      },
      "execution_count": 28,
      "outputs": []
    },
    {
      "cell_type": "code",
      "source": [
        "# dropping rows with empty lists \n",
        "for col in cols:\n",
        "  copy_movies_data=copy_movies_data[copy_movies_data[col].map(lambda d: len(d)) > 0] \n",
        "  "
      ],
      "metadata": {
        "id": "aWIzLiFp54xe"
      },
      "execution_count": 29,
      "outputs": []
    },
    {
      "cell_type": "code",
      "source": [
        "copy_movies_data"
      ],
      "metadata": {
        "colab": {
          "base_uri": "https://localhost:8080/",
          "height": 815
        },
        "id": "JkOYN8pH83J5",
        "outputId": "b9cd315f-dcd7-4d1d-fdab-429ba84acca8"
      },
      "execution_count": 30,
      "outputs": [
        {
          "output_type": "execute_result",
          "data": {
            "text/plain": [
              "                                             genres  \\\n",
              "0     [Action, Adventure, Fantasy, Science Fiction]   \n",
              "1                      [Adventure, Fantasy, Action]   \n",
              "2                        [Action, Adventure, Crime]   \n",
              "3                  [Action, Crime, Drama, Thriller]   \n",
              "4              [Action, Adventure, Science Fiction]   \n",
              "...                                             ...   \n",
              "4795                                        [Drama]   \n",
              "4796             [Science Fiction, Drama, Thriller]   \n",
              "4798                      [Action, Crime, Thriller]   \n",
              "4800             [Comedy, Drama, Romance, TV Movie]   \n",
              "4802                                  [Documentary]   \n",
              "\n",
              "                                               overview  \\\n",
              "0     In the 22nd century, a paraplegic Marine is di...   \n",
              "1     Captain Barbossa, long believed to be dead, ha...   \n",
              "2     A cryptic message from Bond’s past sends him o...   \n",
              "3     Following the death of District Attorney Harve...   \n",
              "4     John Carter is a war-weary, former military ca...   \n",
              "...                                                 ...   \n",
              "4795  A young woman in L.A. is having a bad day: she...   \n",
              "4796  Friends/fledgling entrepreneurs invent a devic...   \n",
              "4798  El Mariachi just wants to play his guitar and ...   \n",
              "4800  \"Signed, Sealed, Delivered\" introduces a dedic...   \n",
              "4802  Ever since the second grade when he first saw ...   \n",
              "\n",
              "                                               keywords  \\\n",
              "0     [culture clash, future, space war, space colon...   \n",
              "1     [ocean, drug abuse, exotic island, east india ...   \n",
              "2     [spy, based on novel, secret agent, sequel, mi...   \n",
              "3     [dc comics, crime fighter, terrorist, secret i...   \n",
              "4     [based on novel, mars, medallion, space travel...   \n",
              "...                                                 ...   \n",
              "4795   [gang, audition, police fake, homeless, actress]   \n",
              "4796  [distrust, garage, identity crisis, time trave...   \n",
              "4798  [united states–mexico barrier, legs, arms, pap...   \n",
              "4800  [date, love at first sight, narration, investi...   \n",
              "4802          [obsession, camcorder, crush, dream girl]   \n",
              "\n",
              "          production_companies                                     title  \\\n",
              "0      Ingenious Film Partners                                    avatar   \n",
              "1         Walt Disney Pictures  pirates of the caribbean: at world's end   \n",
              "2            Columbia Pictures                                   spectre   \n",
              "3           Legendary Pictures                     the dark knight rises   \n",
              "4         Walt Disney Pictures                               john carter   \n",
              "...                        ...                                       ...   \n",
              "4795              Asylum Films                                      bang   \n",
              "4796                 Thinkfilm                                    primer   \n",
              "4798         Columbia Pictures                               el mariachi   \n",
              "4800     Front Street Pictures                 signed, sealed, delivered   \n",
              "4802  rusty bear entertainment                         my date with drew   \n",
              "\n",
              "                                                   cast  \\\n",
              "0     [Sam Worthington, Zoe Saldana, Sigourney Weave...   \n",
              "1     [Johnny Depp, Orlando Bloom, Keira Knightley, ...   \n",
              "2     [Daniel Craig, Christoph Waltz, Léa Seydoux, R...   \n",
              "3     [Christian Bale, Michael Caine, Gary Oldman, A...   \n",
              "4     [Taylor Kitsch, Lynn Collins, Samantha Morton,...   \n",
              "...                                                 ...   \n",
              "4795  [Darling Narita, Peter Greene, Michael Newland...   \n",
              "4796  [Shane Carruth, David Sullivan, Casey Gooden, ...   \n",
              "4798  [Carlos Gallardo, Jaime de Hoyos, Peter Marqua...   \n",
              "4800  [Eric Mabius, Kristin Booth, Crystal Lowe, Geo...   \n",
              "4802  [Drew Barrymore, Brian Herzlinger, Corey Feldm...   \n",
              "\n",
              "                                                   crew           director  \n",
              "0     [{'credit_id': '52fe48009251416c750aca23', 'de...      James Cameron  \n",
              "1     [{'credit_id': '52fe4232c3a36847f800b579', 'de...     Gore Verbinski  \n",
              "2     [{'credit_id': '54805967c3a36829b5002c41', 'de...         Sam Mendes  \n",
              "3     [{'credit_id': '52fe4781c3a36847f81398c3', 'de...  Christopher Nolan  \n",
              "4     [{'credit_id': '52fe479ac3a36847f813eaa3', 'de...     Andrew Stanton  \n",
              "...                                                 ...                ...  \n",
              "4795  [{'credit_id': '52fe4ab0c3a368484e161add', 'de...    Ash Baron-Cohen  \n",
              "4796  [{'credit_id': '52fe45e79251416c75066791', 'de...      Shane Carruth  \n",
              "4798  [{'credit_id': '52fe44eec3a36847f80b280b', 'de...   Robert Rodriguez  \n",
              "4800  [{'credit_id': '52fe4df3c3a36847f8275ecf', 'de...        Scott Smith  \n",
              "4802  [{'credit_id': '58ce021b9251415a390165d9', 'de...   Brian Herzlinger  \n",
              "\n",
              "[4380 rows x 8 columns]"
            ],
            "text/html": [
              "\n",
              "  <div id=\"df-339686db-bc1c-4974-abc9-6b39f6d7b45c\">\n",
              "    <div class=\"colab-df-container\">\n",
              "      <div>\n",
              "<style scoped>\n",
              "    .dataframe tbody tr th:only-of-type {\n",
              "        vertical-align: middle;\n",
              "    }\n",
              "\n",
              "    .dataframe tbody tr th {\n",
              "        vertical-align: top;\n",
              "    }\n",
              "\n",
              "    .dataframe thead th {\n",
              "        text-align: right;\n",
              "    }\n",
              "</style>\n",
              "<table border=\"1\" class=\"dataframe\">\n",
              "  <thead>\n",
              "    <tr style=\"text-align: right;\">\n",
              "      <th></th>\n",
              "      <th>genres</th>\n",
              "      <th>overview</th>\n",
              "      <th>keywords</th>\n",
              "      <th>production_companies</th>\n",
              "      <th>title</th>\n",
              "      <th>cast</th>\n",
              "      <th>crew</th>\n",
              "      <th>director</th>\n",
              "    </tr>\n",
              "  </thead>\n",
              "  <tbody>\n",
              "    <tr>\n",
              "      <th>0</th>\n",
              "      <td>[Action, Adventure, Fantasy, Science Fiction]</td>\n",
              "      <td>In the 22nd century, a paraplegic Marine is di...</td>\n",
              "      <td>[culture clash, future, space war, space colon...</td>\n",
              "      <td>Ingenious Film Partners</td>\n",
              "      <td>avatar</td>\n",
              "      <td>[Sam Worthington, Zoe Saldana, Sigourney Weave...</td>\n",
              "      <td>[{'credit_id': '52fe48009251416c750aca23', 'de...</td>\n",
              "      <td>James Cameron</td>\n",
              "    </tr>\n",
              "    <tr>\n",
              "      <th>1</th>\n",
              "      <td>[Adventure, Fantasy, Action]</td>\n",
              "      <td>Captain Barbossa, long believed to be dead, ha...</td>\n",
              "      <td>[ocean, drug abuse, exotic island, east india ...</td>\n",
              "      <td>Walt Disney Pictures</td>\n",
              "      <td>pirates of the caribbean: at world's end</td>\n",
              "      <td>[Johnny Depp, Orlando Bloom, Keira Knightley, ...</td>\n",
              "      <td>[{'credit_id': '52fe4232c3a36847f800b579', 'de...</td>\n",
              "      <td>Gore Verbinski</td>\n",
              "    </tr>\n",
              "    <tr>\n",
              "      <th>2</th>\n",
              "      <td>[Action, Adventure, Crime]</td>\n",
              "      <td>A cryptic message from Bond’s past sends him o...</td>\n",
              "      <td>[spy, based on novel, secret agent, sequel, mi...</td>\n",
              "      <td>Columbia Pictures</td>\n",
              "      <td>spectre</td>\n",
              "      <td>[Daniel Craig, Christoph Waltz, Léa Seydoux, R...</td>\n",
              "      <td>[{'credit_id': '54805967c3a36829b5002c41', 'de...</td>\n",
              "      <td>Sam Mendes</td>\n",
              "    </tr>\n",
              "    <tr>\n",
              "      <th>3</th>\n",
              "      <td>[Action, Crime, Drama, Thriller]</td>\n",
              "      <td>Following the death of District Attorney Harve...</td>\n",
              "      <td>[dc comics, crime fighter, terrorist, secret i...</td>\n",
              "      <td>Legendary Pictures</td>\n",
              "      <td>the dark knight rises</td>\n",
              "      <td>[Christian Bale, Michael Caine, Gary Oldman, A...</td>\n",
              "      <td>[{'credit_id': '52fe4781c3a36847f81398c3', 'de...</td>\n",
              "      <td>Christopher Nolan</td>\n",
              "    </tr>\n",
              "    <tr>\n",
              "      <th>4</th>\n",
              "      <td>[Action, Adventure, Science Fiction]</td>\n",
              "      <td>John Carter is a war-weary, former military ca...</td>\n",
              "      <td>[based on novel, mars, medallion, space travel...</td>\n",
              "      <td>Walt Disney Pictures</td>\n",
              "      <td>john carter</td>\n",
              "      <td>[Taylor Kitsch, Lynn Collins, Samantha Morton,...</td>\n",
              "      <td>[{'credit_id': '52fe479ac3a36847f813eaa3', 'de...</td>\n",
              "      <td>Andrew Stanton</td>\n",
              "    </tr>\n",
              "    <tr>\n",
              "      <th>...</th>\n",
              "      <td>...</td>\n",
              "      <td>...</td>\n",
              "      <td>...</td>\n",
              "      <td>...</td>\n",
              "      <td>...</td>\n",
              "      <td>...</td>\n",
              "      <td>...</td>\n",
              "      <td>...</td>\n",
              "    </tr>\n",
              "    <tr>\n",
              "      <th>4795</th>\n",
              "      <td>[Drama]</td>\n",
              "      <td>A young woman in L.A. is having a bad day: she...</td>\n",
              "      <td>[gang, audition, police fake, homeless, actress]</td>\n",
              "      <td>Asylum Films</td>\n",
              "      <td>bang</td>\n",
              "      <td>[Darling Narita, Peter Greene, Michael Newland...</td>\n",
              "      <td>[{'credit_id': '52fe4ab0c3a368484e161add', 'de...</td>\n",
              "      <td>Ash Baron-Cohen</td>\n",
              "    </tr>\n",
              "    <tr>\n",
              "      <th>4796</th>\n",
              "      <td>[Science Fiction, Drama, Thriller]</td>\n",
              "      <td>Friends/fledgling entrepreneurs invent a devic...</td>\n",
              "      <td>[distrust, garage, identity crisis, time trave...</td>\n",
              "      <td>Thinkfilm</td>\n",
              "      <td>primer</td>\n",
              "      <td>[Shane Carruth, David Sullivan, Casey Gooden, ...</td>\n",
              "      <td>[{'credit_id': '52fe45e79251416c75066791', 'de...</td>\n",
              "      <td>Shane Carruth</td>\n",
              "    </tr>\n",
              "    <tr>\n",
              "      <th>4798</th>\n",
              "      <td>[Action, Crime, Thriller]</td>\n",
              "      <td>El Mariachi just wants to play his guitar and ...</td>\n",
              "      <td>[united states–mexico barrier, legs, arms, pap...</td>\n",
              "      <td>Columbia Pictures</td>\n",
              "      <td>el mariachi</td>\n",
              "      <td>[Carlos Gallardo, Jaime de Hoyos, Peter Marqua...</td>\n",
              "      <td>[{'credit_id': '52fe44eec3a36847f80b280b', 'de...</td>\n",
              "      <td>Robert Rodriguez</td>\n",
              "    </tr>\n",
              "    <tr>\n",
              "      <th>4800</th>\n",
              "      <td>[Comedy, Drama, Romance, TV Movie]</td>\n",
              "      <td>\"Signed, Sealed, Delivered\" introduces a dedic...</td>\n",
              "      <td>[date, love at first sight, narration, investi...</td>\n",
              "      <td>Front Street Pictures</td>\n",
              "      <td>signed, sealed, delivered</td>\n",
              "      <td>[Eric Mabius, Kristin Booth, Crystal Lowe, Geo...</td>\n",
              "      <td>[{'credit_id': '52fe4df3c3a36847f8275ecf', 'de...</td>\n",
              "      <td>Scott Smith</td>\n",
              "    </tr>\n",
              "    <tr>\n",
              "      <th>4802</th>\n",
              "      <td>[Documentary]</td>\n",
              "      <td>Ever since the second grade when he first saw ...</td>\n",
              "      <td>[obsession, camcorder, crush, dream girl]</td>\n",
              "      <td>rusty bear entertainment</td>\n",
              "      <td>my date with drew</td>\n",
              "      <td>[Drew Barrymore, Brian Herzlinger, Corey Feldm...</td>\n",
              "      <td>[{'credit_id': '58ce021b9251415a390165d9', 'de...</td>\n",
              "      <td>Brian Herzlinger</td>\n",
              "    </tr>\n",
              "  </tbody>\n",
              "</table>\n",
              "<p>4380 rows × 8 columns</p>\n",
              "</div>\n",
              "      <button class=\"colab-df-convert\" onclick=\"convertToInteractive('df-339686db-bc1c-4974-abc9-6b39f6d7b45c')\"\n",
              "              title=\"Convert this dataframe to an interactive table.\"\n",
              "              style=\"display:none;\">\n",
              "        \n",
              "  <svg xmlns=\"http://www.w3.org/2000/svg\" height=\"24px\"viewBox=\"0 0 24 24\"\n",
              "       width=\"24px\">\n",
              "    <path d=\"M0 0h24v24H0V0z\" fill=\"none\"/>\n",
              "    <path d=\"M18.56 5.44l.94 2.06.94-2.06 2.06-.94-2.06-.94-.94-2.06-.94 2.06-2.06.94zm-11 1L8.5 8.5l.94-2.06 2.06-.94-2.06-.94L8.5 2.5l-.94 2.06-2.06.94zm10 10l.94 2.06.94-2.06 2.06-.94-2.06-.94-.94-2.06-.94 2.06-2.06.94z\"/><path d=\"M17.41 7.96l-1.37-1.37c-.4-.4-.92-.59-1.43-.59-.52 0-1.04.2-1.43.59L10.3 9.45l-7.72 7.72c-.78.78-.78 2.05 0 2.83L4 21.41c.39.39.9.59 1.41.59.51 0 1.02-.2 1.41-.59l7.78-7.78 2.81-2.81c.8-.78.8-2.07 0-2.86zM5.41 20L4 18.59l7.72-7.72 1.47 1.35L5.41 20z\"/>\n",
              "  </svg>\n",
              "      </button>\n",
              "      \n",
              "  <style>\n",
              "    .colab-df-container {\n",
              "      display:flex;\n",
              "      flex-wrap:wrap;\n",
              "      gap: 12px;\n",
              "    }\n",
              "\n",
              "    .colab-df-convert {\n",
              "      background-color: #E8F0FE;\n",
              "      border: none;\n",
              "      border-radius: 50%;\n",
              "      cursor: pointer;\n",
              "      display: none;\n",
              "      fill: #1967D2;\n",
              "      height: 32px;\n",
              "      padding: 0 0 0 0;\n",
              "      width: 32px;\n",
              "    }\n",
              "\n",
              "    .colab-df-convert:hover {\n",
              "      background-color: #E2EBFA;\n",
              "      box-shadow: 0px 1px 2px rgba(60, 64, 67, 0.3), 0px 1px 3px 1px rgba(60, 64, 67, 0.15);\n",
              "      fill: #174EA6;\n",
              "    }\n",
              "\n",
              "    [theme=dark] .colab-df-convert {\n",
              "      background-color: #3B4455;\n",
              "      fill: #D2E3FC;\n",
              "    }\n",
              "\n",
              "    [theme=dark] .colab-df-convert:hover {\n",
              "      background-color: #434B5C;\n",
              "      box-shadow: 0px 1px 3px 1px rgba(0, 0, 0, 0.15);\n",
              "      filter: drop-shadow(0px 1px 2px rgba(0, 0, 0, 0.3));\n",
              "      fill: #FFFFFF;\n",
              "    }\n",
              "  </style>\n",
              "\n",
              "      <script>\n",
              "        const buttonEl =\n",
              "          document.querySelector('#df-339686db-bc1c-4974-abc9-6b39f6d7b45c button.colab-df-convert');\n",
              "        buttonEl.style.display =\n",
              "          google.colab.kernel.accessAllowed ? 'block' : 'none';\n",
              "\n",
              "        async function convertToInteractive(key) {\n",
              "          const element = document.querySelector('#df-339686db-bc1c-4974-abc9-6b39f6d7b45c');\n",
              "          const dataTable =\n",
              "            await google.colab.kernel.invokeFunction('convertToInteractive',\n",
              "                                                     [key], {});\n",
              "          if (!dataTable) return;\n",
              "\n",
              "          const docLinkHtml = 'Like what you see? Visit the ' +\n",
              "            '<a target=\"_blank\" href=https://colab.research.google.com/notebooks/data_table.ipynb>data table notebook</a>'\n",
              "            + ' to learn more about interactive tables.';\n",
              "          element.innerHTML = '';\n",
              "          dataTable['output_type'] = 'display_data';\n",
              "          await google.colab.output.renderOutput(dataTable, element);\n",
              "          const docLink = document.createElement('div');\n",
              "          docLink.innerHTML = docLinkHtml;\n",
              "          element.appendChild(docLink);\n",
              "        }\n",
              "      </script>\n",
              "    </div>\n",
              "  </div>\n",
              "  "
            ]
          },
          "metadata": {},
          "execution_count": 30
        }
      ]
    },
    {
      "cell_type": "code",
      "source": [
        "# count how many of directors appear\n",
        "\n",
        "movies_df_2 = pd.DataFrame(copy_movies_data['director'].value_counts(), columns=['director', 'counts'])\n",
        "movies_df_2['counts'] = movies_df_2['director']\n",
        "movies_df_2['director'] = movies_df_2.index\n",
        "movies_df_2"
      ],
      "metadata": {
        "colab": {
          "base_uri": "https://localhost:8080/",
          "height": 424
        },
        "id": "XdtFdDDciQD3",
        "outputId": "a5cbaf48-2ac4-4f68-86a7-40360637abdc"
      },
      "execution_count": 31,
      "outputs": [
        {
          "output_type": "execute_result",
          "data": {
            "text/plain": [
              "                          director  counts\n",
              "Steven Spielberg  Steven Spielberg      27\n",
              "Woody Allen            Woody Allen      20\n",
              "Martin Scorsese    Martin Scorsese      20\n",
              "Clint Eastwood      Clint Eastwood      19\n",
              "Ridley Scott          Ridley Scott      16\n",
              "...                            ...     ...\n",
              "R.J. Cutler            R.J. Cutler       1\n",
              "Dan Mazer                Dan Mazer       1\n",
              "Mabel Cheung          Mabel Cheung       1\n",
              "Jamie Thraves        Jamie Thraves       1\n",
              "Brian Herzlinger  Brian Herzlinger       1\n",
              "\n",
              "[2093 rows x 2 columns]"
            ],
            "text/html": [
              "\n",
              "  <div id=\"df-1c33a573-c022-4faa-a831-679c4df63e58\">\n",
              "    <div class=\"colab-df-container\">\n",
              "      <div>\n",
              "<style scoped>\n",
              "    .dataframe tbody tr th:only-of-type {\n",
              "        vertical-align: middle;\n",
              "    }\n",
              "\n",
              "    .dataframe tbody tr th {\n",
              "        vertical-align: top;\n",
              "    }\n",
              "\n",
              "    .dataframe thead th {\n",
              "        text-align: right;\n",
              "    }\n",
              "</style>\n",
              "<table border=\"1\" class=\"dataframe\">\n",
              "  <thead>\n",
              "    <tr style=\"text-align: right;\">\n",
              "      <th></th>\n",
              "      <th>director</th>\n",
              "      <th>counts</th>\n",
              "    </tr>\n",
              "  </thead>\n",
              "  <tbody>\n",
              "    <tr>\n",
              "      <th>Steven Spielberg</th>\n",
              "      <td>Steven Spielberg</td>\n",
              "      <td>27</td>\n",
              "    </tr>\n",
              "    <tr>\n",
              "      <th>Woody Allen</th>\n",
              "      <td>Woody Allen</td>\n",
              "      <td>20</td>\n",
              "    </tr>\n",
              "    <tr>\n",
              "      <th>Martin Scorsese</th>\n",
              "      <td>Martin Scorsese</td>\n",
              "      <td>20</td>\n",
              "    </tr>\n",
              "    <tr>\n",
              "      <th>Clint Eastwood</th>\n",
              "      <td>Clint Eastwood</td>\n",
              "      <td>19</td>\n",
              "    </tr>\n",
              "    <tr>\n",
              "      <th>Ridley Scott</th>\n",
              "      <td>Ridley Scott</td>\n",
              "      <td>16</td>\n",
              "    </tr>\n",
              "    <tr>\n",
              "      <th>...</th>\n",
              "      <td>...</td>\n",
              "      <td>...</td>\n",
              "    </tr>\n",
              "    <tr>\n",
              "      <th>R.J. Cutler</th>\n",
              "      <td>R.J. Cutler</td>\n",
              "      <td>1</td>\n",
              "    </tr>\n",
              "    <tr>\n",
              "      <th>Dan Mazer</th>\n",
              "      <td>Dan Mazer</td>\n",
              "      <td>1</td>\n",
              "    </tr>\n",
              "    <tr>\n",
              "      <th>Mabel Cheung</th>\n",
              "      <td>Mabel Cheung</td>\n",
              "      <td>1</td>\n",
              "    </tr>\n",
              "    <tr>\n",
              "      <th>Jamie Thraves</th>\n",
              "      <td>Jamie Thraves</td>\n",
              "      <td>1</td>\n",
              "    </tr>\n",
              "    <tr>\n",
              "      <th>Brian Herzlinger</th>\n",
              "      <td>Brian Herzlinger</td>\n",
              "      <td>1</td>\n",
              "    </tr>\n",
              "  </tbody>\n",
              "</table>\n",
              "<p>2093 rows × 2 columns</p>\n",
              "</div>\n",
              "      <button class=\"colab-df-convert\" onclick=\"convertToInteractive('df-1c33a573-c022-4faa-a831-679c4df63e58')\"\n",
              "              title=\"Convert this dataframe to an interactive table.\"\n",
              "              style=\"display:none;\">\n",
              "        \n",
              "  <svg xmlns=\"http://www.w3.org/2000/svg\" height=\"24px\"viewBox=\"0 0 24 24\"\n",
              "       width=\"24px\">\n",
              "    <path d=\"M0 0h24v24H0V0z\" fill=\"none\"/>\n",
              "    <path d=\"M18.56 5.44l.94 2.06.94-2.06 2.06-.94-2.06-.94-.94-2.06-.94 2.06-2.06.94zm-11 1L8.5 8.5l.94-2.06 2.06-.94-2.06-.94L8.5 2.5l-.94 2.06-2.06.94zm10 10l.94 2.06.94-2.06 2.06-.94-2.06-.94-.94-2.06-.94 2.06-2.06.94z\"/><path d=\"M17.41 7.96l-1.37-1.37c-.4-.4-.92-.59-1.43-.59-.52 0-1.04.2-1.43.59L10.3 9.45l-7.72 7.72c-.78.78-.78 2.05 0 2.83L4 21.41c.39.39.9.59 1.41.59.51 0 1.02-.2 1.41-.59l7.78-7.78 2.81-2.81c.8-.78.8-2.07 0-2.86zM5.41 20L4 18.59l7.72-7.72 1.47 1.35L5.41 20z\"/>\n",
              "  </svg>\n",
              "      </button>\n",
              "      \n",
              "  <style>\n",
              "    .colab-df-container {\n",
              "      display:flex;\n",
              "      flex-wrap:wrap;\n",
              "      gap: 12px;\n",
              "    }\n",
              "\n",
              "    .colab-df-convert {\n",
              "      background-color: #E8F0FE;\n",
              "      border: none;\n",
              "      border-radius: 50%;\n",
              "      cursor: pointer;\n",
              "      display: none;\n",
              "      fill: #1967D2;\n",
              "      height: 32px;\n",
              "      padding: 0 0 0 0;\n",
              "      width: 32px;\n",
              "    }\n",
              "\n",
              "    .colab-df-convert:hover {\n",
              "      background-color: #E2EBFA;\n",
              "      box-shadow: 0px 1px 2px rgba(60, 64, 67, 0.3), 0px 1px 3px 1px rgba(60, 64, 67, 0.15);\n",
              "      fill: #174EA6;\n",
              "    }\n",
              "\n",
              "    [theme=dark] .colab-df-convert {\n",
              "      background-color: #3B4455;\n",
              "      fill: #D2E3FC;\n",
              "    }\n",
              "\n",
              "    [theme=dark] .colab-df-convert:hover {\n",
              "      background-color: #434B5C;\n",
              "      box-shadow: 0px 1px 3px 1px rgba(0, 0, 0, 0.15);\n",
              "      filter: drop-shadow(0px 1px 2px rgba(0, 0, 0, 0.3));\n",
              "      fill: #FFFFFF;\n",
              "    }\n",
              "  </style>\n",
              "\n",
              "      <script>\n",
              "        const buttonEl =\n",
              "          document.querySelector('#df-1c33a573-c022-4faa-a831-679c4df63e58 button.colab-df-convert');\n",
              "        buttonEl.style.display =\n",
              "          google.colab.kernel.accessAllowed ? 'block' : 'none';\n",
              "\n",
              "        async function convertToInteractive(key) {\n",
              "          const element = document.querySelector('#df-1c33a573-c022-4faa-a831-679c4df63e58');\n",
              "          const dataTable =\n",
              "            await google.colab.kernel.invokeFunction('convertToInteractive',\n",
              "                                                     [key], {});\n",
              "          if (!dataTable) return;\n",
              "\n",
              "          const docLinkHtml = 'Like what you see? Visit the ' +\n",
              "            '<a target=\"_blank\" href=https://colab.research.google.com/notebooks/data_table.ipynb>data table notebook</a>'\n",
              "            + ' to learn more about interactive tables.';\n",
              "          element.innerHTML = '';\n",
              "          dataTable['output_type'] = 'display_data';\n",
              "          await google.colab.output.renderOutput(dataTable, element);\n",
              "          const docLink = document.createElement('div');\n",
              "          docLink.innerHTML = docLinkHtml;\n",
              "          element.appendChild(docLink);\n",
              "        }\n",
              "      </script>\n",
              "    </div>\n",
              "  </div>\n",
              "  "
            ]
          },
          "metadata": {},
          "execution_count": 31
        }
      ]
    },
    {
      "cell_type": "code",
      "source": [
        "# visualize the top 50 director\n",
        "\n",
        "plt.subplots(figsize=(10, 10))\n",
        "sns.barplot(x='counts', y='director', data=movies_df_2.head(50))\n",
        "plt.title('Top 50 director')"
      ],
      "metadata": {
        "colab": {
          "base_uri": "https://localhost:8080/",
          "height": 638
        },
        "id": "IgdsOveYijMD",
        "outputId": "987acc24-1c50-488e-c802-2fea3f0be7df"
      },
      "execution_count": 32,
      "outputs": [
        {
          "output_type": "execute_result",
          "data": {
            "text/plain": [
              "Text(0.5, 1.0, 'Top 50 director')"
            ]
          },
          "metadata": {},
          "execution_count": 32
        },
        {
          "output_type": "display_data",
          "data": {
            "text/plain": [
              "<Figure size 720x720 with 1 Axes>"
            ],
            "image/png": "[encoded data removed]"
          },
          "metadata": {
            "needs_background": "light"
          }
        }
      ]
    },
    {
      "cell_type": "code",
      "source": [
        "copy_movies_data.dropna(inplace=True)"
      ],
      "metadata": {
        "id": "dCUfy_lJ83GZ"
      },
      "execution_count": 33,
      "outputs": []
    },
    {
      "cell_type": "code",
      "source": [
        "# create document of all string values in each column \n",
        "def create_doc(df):\n",
        "    return ' '.join(df.genres)+' '+' '.join(df.keywords)+' '+ df.production_companies\n",
        "    +' '+df.tagline+' '+' '.join(df.cast)+' '+ df.director + ' ' + df.overview"
      ],
      "metadata": {
        "id": "ykupjAEA83DN"
      },
      "execution_count": 34,
      "outputs": []
    },
    {
      "cell_type": "code",
      "source": [
        "copy_movies_data['document'] = copy_movies_data.apply(create_doc, axis=1)"
      ],
      "metadata": {
        "id": "0vrkBk8q83AC"
      },
      "execution_count": 35,
      "outputs": []
    },
    {
      "cell_type": "code",
      "source": [
        "copy_movies_data"
      ],
      "metadata": {
        "colab": {
          "base_uri": "https://localhost:8080/",
          "height": 884
        },
        "id": "ixTezQ46_1a2",
        "outputId": "602b8c6b-1e9e-4300-9cc1-d6a566873042"
      },
      "execution_count": 36,
      "outputs": [
        {
          "output_type": "execute_result",
          "data": {
            "text/plain": [
              "                                             genres  \\\n",
              "0     [Action, Adventure, Fantasy, Science Fiction]   \n",
              "1                      [Adventure, Fantasy, Action]   \n",
              "2                        [Action, Adventure, Crime]   \n",
              "3                  [Action, Crime, Drama, Thriller]   \n",
              "4              [Action, Adventure, Science Fiction]   \n",
              "...                                             ...   \n",
              "4795                                        [Drama]   \n",
              "4796             [Science Fiction, Drama, Thriller]   \n",
              "4798                      [Action, Crime, Thriller]   \n",
              "4800             [Comedy, Drama, Romance, TV Movie]   \n",
              "4802                                  [Documentary]   \n",
              "\n",
              "                                               overview  \\\n",
              "0     In the 22nd century, a paraplegic Marine is di...   \n",
              "1     Captain Barbossa, long believed to be dead, ha...   \n",
              "2     A cryptic message from Bond’s past sends him o...   \n",
              "3     Following the death of District Attorney Harve...   \n",
              "4     John Carter is a war-weary, former military ca...   \n",
              "...                                                 ...   \n",
              "4795  A young woman in L.A. is having a bad day: she...   \n",
              "4796  Friends/fledgling entrepreneurs invent a devic...   \n",
              "4798  El Mariachi just wants to play his guitar and ...   \n",
              "4800  \"Signed, Sealed, Delivered\" introduces a dedic...   \n",
              "4802  Ever since the second grade when he first saw ...   \n",
              "\n",
              "                                               keywords  \\\n",
              "0     [culture clash, future, space war, space colon...   \n",
              "1     [ocean, drug abuse, exotic island, east india ...   \n",
              "2     [spy, based on novel, secret agent, sequel, mi...   \n",
              "3     [dc comics, crime fighter, terrorist, secret i...   \n",
              "4     [based on novel, mars, medallion, space travel...   \n",
              "...                                                 ...   \n",
              "4795   [gang, audition, police fake, homeless, actress]   \n",
              "4796  [distrust, garage, identity crisis, time trave...   \n",
              "4798  [united states–mexico barrier, legs, arms, pap...   \n",
              "4800  [date, love at first sight, narration, investi...   \n",
              "4802          [obsession, camcorder, crush, dream girl]   \n",
              "\n",
              "          production_companies                                     title  \\\n",
              "0      Ingenious Film Partners                                    avatar   \n",
              "1         Walt Disney Pictures  pirates of the caribbean: at world's end   \n",
              "2            Columbia Pictures                                   spectre   \n",
              "3           Legendary Pictures                     the dark knight rises   \n",
              "4         Walt Disney Pictures                               john carter   \n",
              "...                        ...                                       ...   \n",
              "4795              Asylum Films                                      bang   \n",
              "4796                 Thinkfilm                                    primer   \n",
              "4798         Columbia Pictures                               el mariachi   \n",
              "4800     Front Street Pictures                 signed, sealed, delivered   \n",
              "4802  rusty bear entertainment                         my date with drew   \n",
              "\n",
              "                                                   cast  \\\n",
              "0     [Sam Worthington, Zoe Saldana, Sigourney Weave...   \n",
              "1     [Johnny Depp, Orlando Bloom, Keira Knightley, ...   \n",
              "2     [Daniel Craig, Christoph Waltz, Léa Seydoux, R...   \n",
              "3     [Christian Bale, Michael Caine, Gary Oldman, A...   \n",
              "4     [Taylor Kitsch, Lynn Collins, Samantha Morton,...   \n",
              "...                                                 ...   \n",
              "4795  [Darling Narita, Peter Greene, Michael Newland...   \n",
              "4796  [Shane Carruth, David Sullivan, Casey Gooden, ...   \n",
              "4798  [Carlos Gallardo, Jaime de Hoyos, Peter Marqua...   \n",
              "4800  [Eric Mabius, Kristin Booth, Crystal Lowe, Geo...   \n",
              "4802  [Drew Barrymore, Brian Herzlinger, Corey Feldm...   \n",
              "\n",
              "                                                   crew           director  \\\n",
              "0     [{'credit_id': '52fe48009251416c750aca23', 'de...      James Cameron   \n",
              "1     [{'credit_id': '52fe4232c3a36847f800b579', 'de...     Gore Verbinski   \n",
              "2     [{'credit_id': '54805967c3a36829b5002c41', 'de...         Sam Mendes   \n",
              "3     [{'credit_id': '52fe4781c3a36847f81398c3', 'de...  Christopher Nolan   \n",
              "4     [{'credit_id': '52fe479ac3a36847f813eaa3', 'de...     Andrew Stanton   \n",
              "...                                                 ...                ...   \n",
              "4795  [{'credit_id': '52fe4ab0c3a368484e161add', 'de...    Ash Baron-Cohen   \n",
              "4796  [{'credit_id': '52fe45e79251416c75066791', 'de...      Shane Carruth   \n",
              "4798  [{'credit_id': '52fe44eec3a36847f80b280b', 'de...   Robert Rodriguez   \n",
              "4800  [{'credit_id': '52fe4df3c3a36847f8275ecf', 'de...        Scott Smith   \n",
              "4802  [{'credit_id': '58ce021b9251415a390165d9', 'de...   Brian Herzlinger   \n",
              "\n",
              "                                               document  \n",
              "0     Action Adventure Fantasy Science Fiction cultu...  \n",
              "1     Adventure Fantasy Action ocean drug abuse exot...  \n",
              "2     Action Adventure Crime spy based on novel secr...  \n",
              "3     Action Crime Drama Thriller dc comics crime fi...  \n",
              "4     Action Adventure Science Fiction based on nove...  \n",
              "...                                                 ...  \n",
              "4795  Drama gang audition police fake homeless actre...  \n",
              "4796  Science Fiction Drama Thriller distrust garage...  \n",
              "4798  Action Crime Thriller united states–mexico bar...  \n",
              "4800  Comedy Drama Romance TV Movie date love at fir...  \n",
              "4802  Documentary obsession camcorder crush dream gi...  \n",
              "\n",
              "[4180 rows x 9 columns]"
            ],
            "text/html": [
              "\n",
              "  <div id=\"df-4a5082f4-2dc9-49fb-9a49-43428dc770bb\">\n",
              "    <div class=\"colab-df-container\">\n",
              "      <div>\n",
              "<style scoped>\n",
              "    .dataframe tbody tr th:only-of-type {\n",
              "        vertical-align: middle;\n",
              "    }\n",
              "\n",
              "    .dataframe tbody tr th {\n",
              "        vertical-align: top;\n",
              "    }\n",
              "\n",
              "    .dataframe thead th {\n",
              "        text-align: right;\n",
              "    }\n",
              "</style>\n",
              "<table border=\"1\" class=\"dataframe\">\n",
              "  <thead>\n",
              "    <tr style=\"text-align: right;\">\n",
              "      <th></th>\n",
              "      <th>genres</th>\n",
              "      <th>overview</th>\n",
              "      <th>keywords</th>\n",
              "      <th>production_companies</th>\n",
              "      <th>title</th>\n",
              "      <th>cast</th>\n",
              "      <th>crew</th>\n",
              "      <th>director</th>\n",
              "      <th>document</th>\n",
              "    </tr>\n",
              "  </thead>\n",
              "  <tbody>\n",
              "    <tr>\n",
              "      <th>0</th>\n",
              "      <td>[Action, Adventure, Fantasy, Science Fiction]</td>\n",
              "      <td>In the 22nd century, a paraplegic Marine is di...</td>\n",
              "      <td>[culture clash, future, space war, space colon...</td>\n",
              "      <td>Ingenious Film Partners</td>\n",
              "      <td>avatar</td>\n",
              "      <td>[Sam Worthington, Zoe Saldana, Sigourney Weave...</td>\n",
              "      <td>[{'credit_id': '52fe48009251416c750aca23', 'de...</td>\n",
              "      <td>James Cameron</td>\n",
              "      <td>Action Adventure Fantasy Science Fiction cultu...</td>\n",
              "    </tr>\n",
              "    <tr>\n",
              "      <th>1</th>\n",
              "      <td>[Adventure, Fantasy, Action]</td>\n",
              "      <td>Captain Barbossa, long believed to be dead, ha...</td>\n",
              "      <td>[ocean, drug abuse, exotic island, east india ...</td>\n",
              "      <td>Walt Disney Pictures</td>\n",
              "      <td>pirates of the caribbean: at world's end</td>\n",
              "      <td>[Johnny Depp, Orlando Bloom, Keira Knightley, ...</td>\n",
              "      <td>[{'credit_id': '52fe4232c3a36847f800b579', 'de...</td>\n",
              "      <td>Gore Verbinski</td>\n",
              "      <td>Adventure Fantasy Action ocean drug abuse exot...</td>\n",
              "    </tr>\n",
              "    <tr>\n",
              "      <th>2</th>\n",
              "      <td>[Action, Adventure, Crime]</td>\n",
              "      <td>A cryptic message from Bond’s past sends him o...</td>\n",
              "      <td>[spy, based on novel, secret agent, sequel, mi...</td>\n",
              "      <td>Columbia Pictures</td>\n",
              "      <td>spectre</td>\n",
              "      <td>[Daniel Craig, Christoph Waltz, Léa Seydoux, R...</td>\n",
              "      <td>[{'credit_id': '54805967c3a36829b5002c41', 'de...</td>\n",
              "      <td>Sam Mendes</td>\n",
              "      <td>Action Adventure Crime spy based on novel secr...</td>\n",
              "    </tr>\n",
              "    <tr>\n",
              "      <th>3</th>\n",
              "      <td>[Action, Crime, Drama, Thriller]</td>\n",
              "      <td>Following the death of District Attorney Harve...</td>\n",
              "      <td>[dc comics, crime fighter, terrorist, secret i...</td>\n",
              "      <td>Legendary Pictures</td>\n",
              "      <td>the dark knight rises</td>\n",
              "      <td>[Christian Bale, Michael Caine, Gary Oldman, A...</td>\n",
              "      <td>[{'credit_id': '52fe4781c3a36847f81398c3', 'de...</td>\n",
              "      <td>Christopher Nolan</td>\n",
              "      <td>Action Crime Drama Thriller dc comics crime fi...</td>\n",
              "    </tr>\n",
              "    <tr>\n",
              "      <th>4</th>\n",
              "      <td>[Action, Adventure, Science Fiction]</td>\n",
              "      <td>John Carter is a war-weary, former military ca...</td>\n",
              "      <td>[based on novel, mars, medallion, space travel...</td>\n",
              "      <td>Walt Disney Pictures</td>\n",
              "      <td>john carter</td>\n",
              "      <td>[Taylor Kitsch, Lynn Collins, Samantha Morton,...</td>\n",
              "      <td>[{'credit_id': '52fe479ac3a36847f813eaa3', 'de...</td>\n",
              "      <td>Andrew Stanton</td>\n",
              "      <td>Action Adventure Science Fiction based on nove...</td>\n",
              "    </tr>\n",
              "    <tr>\n",
              "      <th>...</th>\n",
              "      <td>...</td>\n",
              "      <td>...</td>\n",
              "      <td>...</td>\n",
              "      <td>...</td>\n",
              "      <td>...</td>\n",
              "      <td>...</td>\n",
              "      <td>...</td>\n",
              "      <td>...</td>\n",
              "      <td>...</td>\n",
              "    </tr>\n",
              "    <tr>\n",
              "      <th>4795</th>\n",
              "      <td>[Drama]</td>\n",
              "      <td>A young woman in L.A. is having a bad day: she...</td>\n",
              "      <td>[gang, audition, police fake, homeless, actress]</td>\n",
              "      <td>Asylum Films</td>\n",
              "      <td>bang</td>\n",
              "      <td>[Darling Narita, Peter Greene, Michael Newland...</td>\n",
              "      <td>[{'credit_id': '52fe4ab0c3a368484e161add', 'de...</td>\n",
              "      <td>Ash Baron-Cohen</td>\n",
              "      <td>Drama gang audition police fake homeless actre...</td>\n",
              "    </tr>\n",
              "    <tr>\n",
              "      <th>4796</th>\n",
              "      <td>[Science Fiction, Drama, Thriller]</td>\n",
              "      <td>Friends/fledgling entrepreneurs invent a devic...</td>\n",
              "      <td>[distrust, garage, identity crisis, time trave...</td>\n",
              "      <td>Thinkfilm</td>\n",
              "      <td>primer</td>\n",
              "      <td>[Shane Carruth, David Sullivan, Casey Gooden, ...</td>\n",
              "      <td>[{'credit_id': '52fe45e79251416c75066791', 'de...</td>\n",
              "      <td>Shane Carruth</td>\n",
              "      <td>Science Fiction Drama Thriller distrust garage...</td>\n",
              "    </tr>\n",
              "    <tr>\n",
              "      <th>4798</th>\n",
              "      <td>[Action, Crime, Thriller]</td>\n",
              "      <td>El Mariachi just wants to play his guitar and ...</td>\n",
              "      <td>[united states–mexico barrier, legs, arms, pap...</td>\n",
              "      <td>Columbia Pictures</td>\n",
              "      <td>el mariachi</td>\n",
              "      <td>[Carlos Gallardo, Jaime de Hoyos, Peter Marqua...</td>\n",
              "      <td>[{'credit_id': '52fe44eec3a36847f80b280b', 'de...</td>\n",
              "      <td>Robert Rodriguez</td>\n",
              "      <td>Action Crime Thriller united states–mexico bar...</td>\n",
              "    </tr>\n",
              "    <tr>\n",
              "      <th>4800</th>\n",
              "      <td>[Comedy, Drama, Romance, TV Movie]</td>\n",
              "      <td>\"Signed, Sealed, Delivered\" introduces a dedic...</td>\n",
              "      <td>[date, love at first sight, narration, investi...</td>\n",
              "      <td>Front Street Pictures</td>\n",
              "      <td>signed, sealed, delivered</td>\n",
              "      <td>[Eric Mabius, Kristin Booth, Crystal Lowe, Geo...</td>\n",
              "      <td>[{'credit_id': '52fe4df3c3a36847f8275ecf', 'de...</td>\n",
              "      <td>Scott Smith</td>\n",
              "      <td>Comedy Drama Romance TV Movie date love at fir...</td>\n",
              "    </tr>\n",
              "    <tr>\n",
              "      <th>4802</th>\n",
              "      <td>[Documentary]</td>\n",
              "      <td>Ever since the second grade when he first saw ...</td>\n",
              "      <td>[obsession, camcorder, crush, dream girl]</td>\n",
              "      <td>rusty bear entertainment</td>\n",
              "      <td>my date with drew</td>\n",
              "      <td>[Drew Barrymore, Brian Herzlinger, Corey Feldm...</td>\n",
              "      <td>[{'credit_id': '58ce021b9251415a390165d9', 'de...</td>\n",
              "      <td>Brian Herzlinger</td>\n",
              "      <td>Documentary obsession camcorder crush dream gi...</td>\n",
              "    </tr>\n",
              "  </tbody>\n",
              "</table>\n",
              "<p>4180 rows × 9 columns</p>\n",
              "</div>\n",
              "      <button class=\"colab-df-convert\" onclick=\"convertToInteractive('df-4a5082f4-2dc9-49fb-9a49-43428dc770bb')\"\n",
              "              title=\"Convert this dataframe to an interactive table.\"\n",
              "              style=\"display:none;\">\n",
              "        \n",
              "  <svg xmlns=\"http://www.w3.org/2000/svg\" height=\"24px\"viewBox=\"0 0 24 24\"\n",
              "       width=\"24px\">\n",
              "    <path d=\"M0 0h24v24H0V0z\" fill=\"none\"/>\n",
              "    <path d=\"M18.56 5.44l.94 2.06.94-2.06 2.06-.94-2.06-.94-.94-2.06-.94 2.06-2.06.94zm-11 1L8.5 8.5l.94-2.06 2.06-.94-2.06-.94L8.5 2.5l-.94 2.06-2.06.94zm10 10l.94 2.06.94-2.06 2.06-.94-2.06-.94-.94-2.06-.94 2.06-2.06.94z\"/><path d=\"M17.41 7.96l-1.37-1.37c-.4-.4-.92-.59-1.43-.59-.52 0-1.04.2-1.43.59L10.3 9.45l-7.72 7.72c-.78.78-.78 2.05 0 2.83L4 21.41c.39.39.9.59 1.41.59.51 0 1.02-.2 1.41-.59l7.78-7.78 2.81-2.81c.8-.78.8-2.07 0-2.86zM5.41 20L4 18.59l7.72-7.72 1.47 1.35L5.41 20z\"/>\n",
              "  </svg>\n",
              "      </button>\n",
              "      \n",
              "  <style>\n",
              "    .colab-df-container {\n",
              "      display:flex;\n",
              "      flex-wrap:wrap;\n",
              "      gap: 12px;\n",
              "    }\n",
              "\n",
              "    .colab-df-convert {\n",
              "      background-color: #E8F0FE;\n",
              "      border: none;\n",
              "      border-radius: 50%;\n",
              "      cursor: pointer;\n",
              "      display: none;\n",
              "      fill: #1967D2;\n",
              "      height: 32px;\n",
              "      padding: 0 0 0 0;\n",
              "      width: 32px;\n",
              "    }\n",
              "\n",
              "    .colab-df-convert:hover {\n",
              "      background-color: #E2EBFA;\n",
              "      box-shadow: 0px 1px 2px rgba(60, 64, 67, 0.3), 0px 1px 3px 1px rgba(60, 64, 67, 0.15);\n",
              "      fill: #174EA6;\n",
              "    }\n",
              "\n",
              "    [theme=dark] .colab-df-convert {\n",
              "      background-color: #3B4455;\n",
              "      fill: #D2E3FC;\n",
              "    }\n",
              "\n",
              "    [theme=dark] .colab-df-convert:hover {\n",
              "      background-color: #434B5C;\n",
              "      box-shadow: 0px 1px 3px 1px rgba(0, 0, 0, 0.15);\n",
              "      filter: drop-shadow(0px 1px 2px rgba(0, 0, 0, 0.3));\n",
              "      fill: #FFFFFF;\n",
              "    }\n",
              "  </style>\n",
              "\n",
              "      <script>\n",
              "        const buttonEl =\n",
              "          document.querySelector('#df-4a5082f4-2dc9-49fb-9a49-43428dc770bb button.colab-df-convert');\n",
              "        buttonEl.style.display =\n",
              "          google.colab.kernel.accessAllowed ? 'block' : 'none';\n",
              "\n",
              "        async function convertToInteractive(key) {\n",
              "          const element = document.querySelector('#df-4a5082f4-2dc9-49fb-9a49-43428dc770bb');\n",
              "          const dataTable =\n",
              "            await google.colab.kernel.invokeFunction('convertToInteractive',\n",
              "                                                     [key], {});\n",
              "          if (!dataTable) return;\n",
              "\n",
              "          const docLinkHtml = 'Like what you see? Visit the ' +\n",
              "            '<a target=\"_blank\" href=https://colab.research.google.com/notebooks/data_table.ipynb>data table notebook</a>'\n",
              "            + ' to learn more about interactive tables.';\n",
              "          element.innerHTML = '';\n",
              "          dataTable['output_type'] = 'display_data';\n",
              "          await google.colab.output.renderOutput(dataTable, element);\n",
              "          const docLink = document.createElement('div');\n",
              "          docLink.innerHTML = docLinkHtml;\n",
              "          element.appendChild(docLink);\n",
              "        }\n",
              "      </script>\n",
              "    </div>\n",
              "  </div>\n",
              "  "
            ]
          },
          "metadata": {},
          "execution_count": 36
        }
      ]
    },
    {
      "cell_type": "markdown",
      "source": [
        "## 3. Evaluation"
      ],
      "metadata": {
        "id": "WIeuilvHSiSk"
      }
    },
    {
      "cell_type": "markdown",
      "source": [
        "### Consine Similarity and make recommendations"
      ],
      "metadata": {
        "id": "9l5gZwaiHcS4"
      }
    },
    {
      "cell_type": "markdown",
      "source": [
        "- Formula:   \n",
        "            Cos(x, y) = x . y / ||x|| * ||y||\n",
        "            \n",
        "            - x . y = product (dot) of the vectors ‘x’ and ‘y’.\n",
        "            - ||x|| and ||y|| = length of the two vectors ‘x’ and ‘y’.\n",
        "            - ||x|| * ||y|| = cross product of the two vectors ‘x’ and ‘y’."
      ],
      "metadata": {
        "id": "HlrhihwcW45U"
      }
    },
    {
      "cell_type": "code",
      "source": [
        "vectorizer = CountVectorizer(stop_words='english')\n",
        "count_matrix = vectorizer.fit_transform(copy_movies_data['document'])"
      ],
      "metadata": {
        "id": "ppeLp74P-urg"
      },
      "execution_count": 37,
      "outputs": []
    },
    {
      "cell_type": "code",
      "source": [
        "cos_similarity = cosine_similarity(count_matrix, count_matrix)"
      ],
      "metadata": {
        "id": "eaW95mvx_Vt2"
      },
      "execution_count": 38,
      "outputs": []
    },
    {
      "cell_type": "code",
      "source": [
        "cos_similarity"
      ],
      "metadata": {
        "colab": {
          "base_uri": "https://localhost:8080/"
        },
        "id": "1eXS2rnkIbzw",
        "outputId": "0183ce1b-af65-4a81-fa3c-338c7978a76b"
      },
      "execution_count": 39,
      "outputs": [
        {
          "output_type": "execute_result",
          "data": {
            "text/plain": [
              "array([[1.        , 0.10107974, 0.06243905, ..., 0.03513642, 0.07027284,\n",
              "        0.        ],\n",
              "       [0.10107974, 1.        , 0.1278043 , ..., 0.09589266, 0.09589266,\n",
              "        0.        ],\n",
              "       [0.06243905, 0.1278043 , 1.        , ..., 0.29617444, 0.05923489,\n",
              "        0.        ],\n",
              "       ...,\n",
              "       [0.03513642, 0.09589266, 0.29617444, ..., 1.        , 0.06666667,\n",
              "        0.        ],\n",
              "       [0.07027284, 0.09589266, 0.05923489, ..., 0.06666667, 1.        ,\n",
              "        0.        ],\n",
              "       [0.        , 0.        , 0.        , ..., 0.        , 0.        ,\n",
              "        1.        ]])"
            ]
          },
          "metadata": {},
          "execution_count": 39
        }
      ]
    },
    {
      "cell_type": "code",
      "source": [
        "copy_movies_data = copy_movies_data.reset_index()"
      ],
      "metadata": {
        "id": "3WlUP4NCHWp_"
      },
      "execution_count": 40,
      "outputs": []
    },
    {
      "cell_type": "code",
      "source": [
        "indexs = pd.Series(copy_movies_data.index, copy_movies_data['title'])"
      ],
      "metadata": {
        "id": "wrffCQFE_Vqf"
      },
      "execution_count": 41,
      "outputs": []
    },
    {
      "cell_type": "code",
      "source": [
        "indexs"
      ],
      "metadata": {
        "colab": {
          "base_uri": "https://localhost:8080/"
        },
        "id": "XYZt6xBDXeH5",
        "outputId": "4d831e7a-2fce-4cef-f621-df71ad8312d6"
      },
      "execution_count": 42,
      "outputs": [
        {
          "output_type": "execute_result",
          "data": {
            "text/plain": [
              "title\n",
              "avatar                                         0\n",
              "pirates of the caribbean: at world's end       1\n",
              "spectre                                        2\n",
              "the dark knight rises                          3\n",
              "john carter                                    4\n",
              "                                            ... \n",
              "bang                                        4175\n",
              "primer                                      4176\n",
              "el mariachi                                 4177\n",
              "signed, sealed, delivered                   4178\n",
              "my date with drew                           4179\n",
              "Length: 4180, dtype: int64"
            ]
          },
          "metadata": {},
          "execution_count": 42
        }
      ]
    },
    {
      "cell_type": "code",
      "source": [
        "def get_all_titles(new_title):\n",
        "  title_list = []\n",
        "  for index in indexs.index:\n",
        "    if new_title in index or new_title == index:\n",
        "      title_list.append(index)\n",
        "\n",
        "  return title_list"
      ],
      "metadata": {
        "id": "f6OOJL0AH_k5"
      },
      "execution_count": 86,
      "outputs": []
    },
    {
      "cell_type": "code",
      "source": [
        "'''\n",
        " A function that take the movie title and the similarity scores,\n",
        " then compare user's movie with the other movies to select the most similar movies\n",
        " and return the top 10 of similar movies and there similarity scores \n",
        "'''\n",
        "\n",
        "def get_recommendation(title, cos_sim=cos_similarity):\n",
        "    title_list = get_all_titles(title)\n",
        "\n",
        "    all_similar_movies = []\n",
        "    all_similar_scores = []\n",
        "\n",
        "    for title in title_list:\n",
        "      idx = indexs[title]\n",
        "      similarity_scores = list(enumerate(cos_sim[idx]))\n",
        "\n",
        "      # sort the scores descending\n",
        "      similarity_scores = sorted(similarity_scores, key=lambda x: x[1], reverse=True)\n",
        "\n",
        "      # extract these scores' indices\n",
        "      movies_idx = [ind[0] for ind in similarity_scores]\n",
        "\n",
        "      # extract the movie's title depend on movie's index\n",
        "      movies = movies_data['title'].iloc[movies_idx]\n",
        "      \n",
        "      all_similar_movies.extend(movies)\n",
        "      all_similar_scores.extend(similarity_scores)\n",
        "\n",
        "    return all_similar_movies, all_similar_scores\n",
        "    "
      ],
      "metadata": {
        "id": "cOharv1u_VoH"
      },
      "execution_count": 189,
      "outputs": []
    },
    {
      "cell_type": "code",
      "source": [
        "'''\n",
        "    A function that take a tuple of index and similarity_scores of the movies,\n",
        "    and return the similarity_scores only\n",
        "'''\n",
        "def Extract_Similarity_Scores(similarity_scores):\n",
        "  score_list = []\n",
        "\n",
        "  for score in similarity_scores:\n",
        "    score_list.append(score[1])\n",
        "  \n",
        "  return score_list"
      ],
      "metadata": {
        "id": "HpKXuUa3IYYs"
      },
      "execution_count": 190,
      "outputs": []
    },
    {
      "cell_type": "code",
      "source": [
        "# make recommendations\n",
        "\n",
        "try:\n",
        "\n",
        "  movies, scores = get_recommendation(\"Star Trek\".lower(), cos_similarity)\n",
        "\n",
        "  Similarity_Scores = Extract_Similarity_Scores(scores)\n",
        "\n",
        "  mixture_movies_scores = pd.Series(Similarity_Scores, movies)\n",
        "\n",
        "  movie_data_frame = pd.DataFrame(mixture_movies_scores,  columns=['Similarity Scores'])\n",
        "\n",
        "  print(movie_data_frame.head(20)[1:])\n",
        "except Exception as e:\n",
        "  print(\"Please make sure it is before 2016\")"
      ],
      "metadata": {
        "colab": {
          "base_uri": "https://localhost:8080/"
        },
        "id": "3Yj6lQfR_jVL",
        "outputId": "6f0b086e-696c-40e3-f7f1-9bea34053712"
      },
      "execution_count": 191,
      "outputs": [
        {
          "output_type": "stream",
          "name": "stdout",
          "text": [
            "                                          Similarity Scores\n",
            "Star Trek Beyond                                   0.674200\n",
            "Lady in the Water                                  0.597614\n",
            "How Do You Know                                    0.577350\n",
            "The Last Samurai                                   0.537086\n",
            "Avatar                                             0.486864\n",
            "Now You See Me 2                                   0.482382\n",
            "Dave Chappelle's Block Party                       0.467099\n",
            "What's the Worst That Could Happen?                0.466252\n",
            "Jupiter Ascending                                  0.461880\n",
            "Sparkle                                            0.451848\n",
            "Blue Streak                                        0.450000\n",
            "Hook                                               0.447214\n",
            "Transformers: Age of Extinction                    0.439155\n",
            "Taken 3                                            0.439155\n",
            "Anna and the King                                  0.434122\n",
            "Tango & Cash                                       0.434122\n",
            "Harry Potter and the Prisoner of Azkaban           0.422577\n",
            "Red Dawn                                           0.421637\n",
            "Year One                                           0.419627\n"
          ]
        }
      ]
    },
    {
      "cell_type": "code",
      "source": [],
      "metadata": {
        "id": "DWjHw-6AHomL"
      },
      "execution_count": 174,
      "outputs": []
    }
  ]
}